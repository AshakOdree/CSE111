{
 "cells": [
  {
   "cell_type": "markdown",
   "metadata": {},
   "source": [
    "# Task-1"
   ]
  },
  {
   "cell_type": "code",
   "execution_count": 30,
   "metadata": {},
   "outputs": [
    {
     "name": "stdout",
     "output_type": "stream",
     "text": [
      "ID: 1\n",
      "Name: Samin\n",
      "Department: CSE\n",
      "Age: 21\n",
      "CGPA: 3.91\n",
      "-----------------------\n",
      "ID: 2\n",
      "Name: Fahim\n",
      "Department: ECE\n",
      "Age: 21\n",
      "CGPA: 3.85\n",
      "-----------------------\n",
      "ID: 3\n",
      "Name: Tahura\n",
      "Department: EEE\n",
      "Age: 22\n",
      "CGPA: 3.01\n",
      "-----------------------\n",
      "ID: 4\n",
      "Name: Sumaiya\n",
      "Department: BBA\n",
      "Age: 23\n",
      "CGPA: 3.96\n",
      "Instance variable assigns values inside the class methods and for each objects instance variables are different.\n",
      "On the other hand, class variable assigns a value in the class decoration and these variables areshared amongst objects of the class.\n",
      "Instance methods accesses the attributes through the self parameter.\n",
      "On the other hand, class methods accesses the class through cls parameter.\n"
     ]
    }
   ],
   "source": [
    "class Student:\n",
    "    Id =0\n",
    "    def __init__(self,name,department,age,cgpa):\n",
    "        self.name= name\n",
    "        self.department=department\n",
    "        self.age=age\n",
    "        self.cgpa=cgpa\n",
    "        Student.Id+=1\n",
    "    def get_details(self):\n",
    "        print('ID:',Student.Id)\n",
    "        print('Name:',self.name)\n",
    "        print('Department:',self.department)\n",
    "        print('Age:',self.age)\n",
    "        print('CGPA:',self.cgpa)\n",
    "    @classmethod\n",
    "    def from_String(cls,info):\n",
    "        name,department,age,cgpa =info.split('-')\n",
    "        obj = cls(name,department,age,cgpa)\n",
    "        return obj\n",
    "    \n",
    "#===================================================\n",
    "s1 = Student(\"Samin\", \"CSE\", 21, 3.91)\n",
    "s1.get_details()\n",
    "print(\"-----------------------\")\n",
    "s2 = Student(\"Fahim\", \"ECE\", 21, 3.85)\n",
    "s2.get_details()\n",
    "print(\"-----------------------\")\n",
    "s3 = Student(\"Tahura\", \"EEE\", 22, 3.01)\n",
    "s3.get_details()\n",
    "print(\"-----------------------\")\n",
    "s4 = Student.from_String(\"Sumaiya-BBA-23-3.96\")\n",
    "s4.get_details()\n",
    "print(\"Instance variable assigns values inside the class methods and for each objects instance variables are \"\n",
    "      \"different.\\nOn the other hand, class variable assigns a value in the class decoration and these variables are\" \n",
    "      \"shared amongst objects of the class.\")\n",
    "print(\"Instance methods accesses the attributes through the self parameter.\\nOn the other hand, class methods accesses \"\n",
    "      \"the class through cls parameter.\")"
   ]
  },
  {
   "cell_type": "markdown",
   "metadata": {},
   "source": [
    "# Task-2"
   ]
  },
  {
   "cell_type": "code",
   "execution_count": 22,
   "metadata": {},
   "outputs": [
    {
     "name": "stdout",
     "output_type": "stream",
     "text": [
      "Equal\n",
      "It prints equal because both objects representing the same date.\n"
     ]
    }
   ],
   "source": [
    "class Dates:\n",
    "    def __init__(self,date):\n",
    "        self.date=date\n",
    "    @classmethod\n",
    "    def toDashDate(cls,info):\n",
    "        date =info.replace(\"/\",\"-\")\n",
    "        obj = cls(date)\n",
    "        return obj \n",
    "    def getDate(self):\n",
    "        return self.date\n",
    "        \n",
    "#================================================================\n",
    "date1 = Dates(\"05-09-2020\") \n",
    "dateFromDB = \"05/09/2020\" \n",
    "date2= Dates.toDashDate(dateFromDB)\n",
    "\n",
    "if(date1.getDate() == date2.getDate()):\n",
    "    print(\"Equal\") \n",
    "else: \n",
    "    print(\"Unequal\")\n",
    "print(\"It prints equal because both objects representing the same date.\")"
   ]
  },
  {
   "cell_type": "markdown",
   "metadata": {},
   "source": [
    "# Task-3"
   ]
  },
  {
   "cell_type": "code",
   "execution_count": 12,
   "metadata": {},
   "outputs": [
    {
     "name": "stdout",
     "output_type": "stream",
     "text": [
      "Total Passenger: 0\n",
      "=========================\n",
      "Name: Jack\n",
      "Bus Fare: 550\n",
      "=========================\n",
      "Name: Carol\n",
      "Bus Fare: 450\n",
      "=========================\n",
      "Name: Mike\n",
      "Bus Fare: 500\n",
      "=========================\n",
      "Total Passenger: 3\n"
     ]
    }
   ],
   "source": [
    "class Passenger:\n",
    "    count=0\n",
    "    def __init__(self,name,tk=450):\n",
    "        self.name=name\n",
    "        self.tk=tk\n",
    "        Passenger.count+=1 \n",
    "    def set_bag_weight(self,wgt):\n",
    "        self.wgt=wgt\n",
    "        if self.wgt <=20:\n",
    "            self.tk=self.tk\n",
    "        elif self.wgt >21 and self.wgt <50:\n",
    "            self.tk =self.tk+50\n",
    "        elif self.wgt >50 :\n",
    "            self.tk =self.tk+100\n",
    "    def printDetail(self):\n",
    "        print('Name:',self.name)\n",
    "        print('Bus Fare:',self.tk)\n",
    "    \n",
    "\n",
    "#====================================================================\n",
    "print(\"Total Passenger:\", Passenger.count) \n",
    "p1 = Passenger(\"Jack\")\n",
    "p1.set_bag_weight(90) \n",
    "p2 = Passenger(\"Carol\") \n",
    "p2.set_bag_weight(10) \n",
    "p3 = Passenger(\"Mike\") \n",
    "p3.set_bag_weight(25) \n",
    "print(\"=========================\")\n",
    "p1.printDetail() \n",
    "print(\"=========================\") \n",
    "p2.printDetail() \n",
    "print(\"=========================\") \n",
    "p3.printDetail() \n",
    "print(\"=========================\") \n",
    "print(\"Total Passenger:\", Passenger.count)"
   ]
  },
  {
   "cell_type": "markdown",
   "metadata": {},
   "source": [
    "# Task-4"
   ]
  },
  {
   "cell_type": "code",
   "execution_count": 17,
   "metadata": {},
   "outputs": [
    {
     "name": "stdout",
     "output_type": "stream",
     "text": [
      "No. of Traveller = 0\n",
      "=======================\n",
      "Source: Dhaka\n",
      "Destination: India\n",
      "Flight Time:1:00\n",
      "=======================\n",
      "Source: Kuala Lampur\n",
      "Destination: Dhaka\n",
      "Flight Time:23:00\n",
      "=======================\n",
      "Source: Germany\n",
      "Destination: New_Zealand\n",
      "Flight Time:15:00\n",
      "=======================\n",
      "Source: Canada\n",
      "Destination: Malaysia\n",
      "Flight Time:9:00\n",
      "=======================\n",
      "No. of Traveller = 4\n"
     ]
    }
   ],
   "source": [
    "class Travel:\n",
    "    count=0\n",
    "    def __init__(self,From,to):\n",
    "        self.From=From\n",
    "        self.to=to\n",
    "        self.time=1\n",
    "        Travel.count+=1\n",
    "    def set_time(self,time):\n",
    "        self.time=time\n",
    "    def set_source(self,to):\n",
    "        self.to=to\n",
    "    \n",
    "    def set_destination(self,From):\n",
    "        self.From=From\n",
    "            \n",
    "        \n",
    "    def display_travel_info(self):\n",
    "        print('Source:',self.From)\n",
    "        print('Destination:',self.to)\n",
    "        return 'Flight Time:'+str(self.time)+\":00\"\n",
    "        \n",
    "#================================================================\n",
    "print(\"No. of Traveller =\", Travel.count)\n",
    "print(\"=======================\")\n",
    "t1 = Travel(\"Dhaka\",\"India\")\n",
    "print(t1.display_travel_info())\n",
    "print(\"=======================\")\n",
    "t2 = Travel(\"Kuala Lampur\",\"Dhaka\")\n",
    "t2.set_time(23)\n",
    "print(t2.display_travel_info())\n",
    "print(\"=======================\")\n",
    "t3 = Travel(\"Dhaka\",\"New_Zealand\")\n",
    "t3.set_time(15)\n",
    "t3.set_destination(\"Germany\")\n",
    "print(t3.display_travel_info())\n",
    "print(\"=======================\")\n",
    "t4 = Travel(\"Dhaka\",\"India\")\n",
    "t4.set_time(9)\n",
    "t4.set_source(\"Malaysia\")\n",
    "t4.set_destination(\"Canada\")\n",
    "print(t4.display_travel_info())\n",
    "print(\"=======================\") \n",
    "print(\"No. of Traveller =\", Travel.count)"
   ]
  },
  {
   "cell_type": "markdown",
   "metadata": {},
   "source": [
    "# Task-5"
   ]
  },
  {
   "cell_type": "code",
   "execution_count": 11,
   "metadata": {},
   "outputs": [
    {
     "name": "stdout",
     "output_type": "stream",
     "text": [
      "Apple 3\n",
      "Pear 4\n",
      "Total number of fruits 7\n",
      "Fruits are good for health\n",
      "Total number of fruits 0\n"
     ]
    }
   ],
   "source": [
    "class Fruit:\n",
    "    fruitCount=0\n",
    "    def __init__(self,name,count):\n",
    "        self.name=name\n",
    "        self.count=count\n",
    "        Fruit.fruitCount+=count\n",
    "    @staticmethod    \n",
    "    def saySomethingGood():\n",
    "        print('Fruits are good for health')\n",
    "    @classmethod\n",
    "    def resetcount(cls,new=0):\n",
    "        cls.fruitCount=new\n",
    "        \n",
    "        \n",
    "        \n",
    "#===========================================================\n",
    "apples = Fruit(\"Apple\", 3);\n",
    "pears = Fruit(\"Pear\", 4);\n",
    "print(apples.name, apples.count)\n",
    "print(pears.name,pears.count)\n",
    "print(\"Total number of fruits\", Fruit.fruitCount)\n",
    "Fruit.saySomethingGood()\n",
    "Fruit.resetcount()\n",
    "print(\"Total number of fruits\", Fruit.fruitCount)"
   ]
  },
  {
   "cell_type": "code",
   "execution_count": 20,
   "metadata": {},
   "outputs": [
    {
     "name": "stdout",
     "output_type": "stream",
     "text": [
      "Apple 3\n",
      "Pear 4\n",
      "Total number of fruits 7\n",
      "Fruits are good for health\n",
      "Total number of fruits 0\n"
     ]
    }
   ],
   "source": [
    "class Fruit:\n",
    "    fruitCount=0\n",
    "    def __init__(self,name,count):\n",
    "        self.name=name\n",
    "        self.count=count\n",
    "        Fruit.fruitCount+=self.count\n",
    "    @staticmethod    \n",
    "    def saySomethingGood():\n",
    "        print('Fruits are good for health')\n",
    "    @classmethod\n",
    "    def resetcount(cls,new=0):\n",
    "        cls.fruitCount=new\n",
    "        \n",
    "        \n",
    "        \n",
    "#===========================================================\n",
    "apples = Fruit(\"Apple\", 3);\n",
    "pears = Fruit(\"Pear\", 4);\n",
    "print(apples.name, apples.count)\n",
    "print(pears.name,pears.count)\n",
    "print(\"Total number of fruits\", Fruit.fruitCount)\n",
    "Fruit.saySomethingGood()\n",
    "Fruit.resetcount()\n",
    "print(\"Total number of fruits\", Fruit.fruitCount)"
   ]
  },
  {
   "cell_type": "markdown",
   "metadata": {},
   "source": [
    "# Task-6"
   ]
  },
  {
   "cell_type": "code",
   "execution_count": 14,
   "metadata": {},
   "outputs": [
    {
     "name": "stdout",
     "output_type": "stream",
     "text": [
      "Total number of cats: 0\n",
      "=======================\n",
      "White cat is sitting\n",
      "Black cat is sitting\n",
      "Brown cat is jumping\n",
      "Red cat is purring\n",
      "Grey cat is playing\n",
      "Blue cat is sitting\n",
      "Purple cat is jumping\n",
      "=======================\n",
      "Total number of cats: 5\n"
     ]
    }
   ],
   "source": [
    "class Cat:\n",
    "    Number_of_cats=0\n",
    "    def __init__(self,color,action):\n",
    "        self.color=color\n",
    "        self.action=action\n",
    "        Cat.Number_of_cats+=1\n",
    "    @classmethod    \n",
    "    def no_parameter(cls):\n",
    "        color,action='White','sitting'\n",
    "        obj=cls(color,action)\n",
    "        return obj\n",
    "    @classmethod\n",
    "    def first_parameter(cls,info):\n",
    "        color,action=info,'sitting'\n",
    "        obj1=cls(color,action)\n",
    "        return obj1\n",
    "    @classmethod\n",
    "    def second_parameter(cls,new):\n",
    "        color,action=\"Grey\",new\n",
    "        obj2=cls(color,action)\n",
    "        return obj2\n",
    "    def printCat(self):\n",
    "        print(self.color,(\"cat is\"),self.action)\n",
    "    def changeColor(self,new_color):\n",
    "        self.color=new_color\n",
    "        \n",
    "#================================================================\n",
    "print(\"Total number of cats:\", Cat.Number_of_cats) \n",
    "c1 = Cat.no_parameter() \n",
    "c2 = Cat.first_parameter(\"Black\") \n",
    "c3 = Cat(\"Brown\", \"jumping\") \n",
    "c4 = Cat(\"Red\", \"purring\") \n",
    "c5 = Cat.second_parameter(\"playing\")\n",
    "print(\"=======================\") \n",
    "c1.printCat() \n",
    "c2.printCat() \n",
    "c3.printCat() \n",
    "c4.printCat() \n",
    "c5.printCat() \n",
    "c1.changeColor(\"Blue\") \n",
    "c3.changeColor(\"Purple\") \n",
    "c1.printCat() \n",
    "c3.printCat()\n",
    "print(\"=======================\")\n",
    "print(\"Total number of cats:\", Cat.Number_of_cats)"
   ]
  },
  {
   "cell_type": "markdown",
   "metadata": {},
   "source": [
    "# Task-7"
   ]
  },
  {
   "cell_type": "code",
   "execution_count": 25,
   "metadata": {},
   "outputs": [
    {
     "name": "stdout",
     "output_type": "stream",
     "text": [
      "Default radius = 5 and height= 18\n",
      "Updated: radius= 0 and height= 0\n",
      "Area:  0.0\n",
      "Volume: 0.0\n",
      "===============================\n",
      "Default radius = 0 and height= 0\n",
      "Updated: radius= 3 and height= 8\n",
      "Area:  207.34511513692635\n",
      "Volume: 226.1946710584651\n",
      "===============================\n",
      "Default radius = 3 and height= 8\n",
      "Updated: radius= 7.0 and height= 13.0\n",
      "Area:  879.645943005142\n",
      "Volume: 2001.1945203366981\n",
      "===============================\n",
      "Default radius = 7.0 and height= 13.0\n",
      "Updated: radius= 0.3 and height= 5.56\n",
      "Area:  11.045839770021711\n",
      "===============================\n",
      "Default radius = 0.3 and height= 5.56\n",
      "Updated: radius= 3 and height= 5\n",
      "Volume: 141.3716694115407\n"
     ]
    }
   ],
   "source": [
    "class Cylinder:\n",
    "    radius=5\n",
    "    height=18\n",
    "    def __init__(self, value1,value2):\n",
    "        self.value1 = value1\n",
    "        self.value2 = value2\n",
    "        print(\"Default radius =\", Cylinder.radius, \"and height=\", Cylinder.height)\n",
    "        Cylinder.radius= self.value1\n",
    "        Cylinder.height = self.value2\n",
    "        print(\"Updated: radius=\",self.value1 , \"and height=\", self.value2)\n",
    "    @staticmethod\n",
    "    def volume(value1,value2):\n",
    "        print(\"Volume:\",(3.141592653589793238*(float(Cylinder.radius)**2)*float(Cylinder.height)))\n",
    "    @classmethod\n",
    "    def swap(cls,temp,new):\n",
    "        obj=cls(new,temp)\n",
    "        return obj\n",
    "    @classmethod\n",
    "    def changeFormat(cls,info):\n",
    "        radius,height=info.split(\"-\")\n",
    "        obj1=cls(float(radius),float(height))\n",
    "        return obj1\n",
    "    @staticmethod\n",
    "    def area(num1,num2):\n",
    "        print(\"Area: \", (2*(3.141592653589793238)*float(Cylinder.radius)* float((Cylinder.radius)+float(Cylinder.height) )))\n",
    "\n",
    "        \n",
    "#==============================================================================================================================\n",
    "c1 = Cylinder(0,0)\n",
    "Cylinder.area(c1.radius, c1.height)\n",
    "Cylinder.volume(c1.radius, c1.height)\n",
    "print(\"===============================\")\n",
    "c2 = Cylinder.swap(8,3)\n",
    "c2.area(c2.radius, c2.height)\n",
    "c2.volume(c2.radius, c2.height)\n",
    "print(\"===============================\")\n",
    "c3 = Cylinder.changeFormat(\"7-13\")\n",
    "c3.area(c3.radius, c3.height)\n",
    "c3.volume(c3.radius, c3.height)\n",
    "print(\"===============================\")\n",
    "Cylinder(0.3, 5.56).area(Cylinder.radius, Cylinder.height)\n",
    "print(\"===============================\")\n",
    "Cylinder(3, 5).volume(Cylinder.radius, Cylinder.height)"
   ]
  },
  {
   "cell_type": "code",
   "execution_count": null,
   "metadata": {},
   "outputs": [],
   "source": []
  }
 ],
 "metadata": {
  "kernelspec": {
   "display_name": "Python 3",
   "language": "python",
   "name": "python3"
  },
  "language_info": {
   "codemirror_mode": {
    "name": "ipython",
    "version": 3
   },
   "file_extension": ".py",
   "mimetype": "text/x-python",
   "name": "python",
   "nbconvert_exporter": "python",
   "pygments_lexer": "ipython3",
   "version": "3.7.6"
  }
 },
 "nbformat": 4,
 "nbformat_minor": 4
}
