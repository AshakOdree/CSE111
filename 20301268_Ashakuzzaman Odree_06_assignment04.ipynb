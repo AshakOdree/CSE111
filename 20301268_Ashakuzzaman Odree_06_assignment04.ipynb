{
 "cells": [
  {
   "cell_type": "markdown",
   "metadata": {},
   "source": [
    "# Task-1"
   ]
  },
  {
   "cell_type": "code",
   "execution_count": 3,
   "metadata": {},
   "outputs": [
    {
     "name": "stdout",
     "output_type": "stream",
     "text": [
      "1\n",
      "+\n",
      "2\n",
      "Let’s Calculate!\n",
      "value 1:  1\n",
      "operator:  +\n",
      "value 2:  2\n",
      "Let’s Calculate!\n",
      "Result:  3\n"
     ]
    }
   ],
   "source": [
    "class Calculator:\n",
    "\n",
    "   \n",
    "    def result(self,value_1,operator,value_2):\n",
    "        self.value_1=value_1\n",
    "        self.operator=operator\n",
    "        self.value_2=value_2\n",
    "        print('Let’s Calculate!')\n",
    "        print('value 1: ',self.value_1)\n",
    "        print('operator: ',self.operator)\n",
    "        print('value 2: ',self.value_2)\n",
    "        print('Let’s Calculate!')\n",
    "        if operator == '+':\n",
    "            print('Result: ',value_1+value_2)\n",
    "        elif operator =='-':\n",
    "            print('Result: ',value_1-value_2)\n",
    "        elif operator =='*':\n",
    "            print('Result: ',value_1*value_2)\n",
    "        elif operator =='/':\n",
    "            print('Result: ',value_1/value_2)\n",
    "\n",
    "        \n",
    "obj = Calculator() \n",
    "obj.result(int(input()),input(),int(input())) "
   ]
  },
  {
   "cell_type": "markdown",
   "metadata": {},
   "source": [
    "# Task-2"
   ]
  },
  {
   "cell_type": "code",
   "execution_count": 2,
   "metadata": {},
   "outputs": [
    {
     "name": "stdout",
     "output_type": "stream",
     "text": [
      "Hello!\n",
      "Sam, you have purchased 3 item(s)\n",
      "chips\n",
      "chocolate\n",
      "orange juice\n",
      "-----------------------------\n",
      "Hello David!\n",
      "David, you have purchased 1 item(s)\n",
      "orange juice\n"
     ]
    }
   ],
   "source": [
    "class Customer:\n",
    "    def __init__(self,name):\n",
    "        self.name =name\n",
    "    def greet(self,name=None):\n",
    "        if name != None:\n",
    "            print('Hello',self.name+\"!\")\n",
    "        else:\n",
    "            print('Hello!')\n",
    "    def purchase(self,*food):\n",
    "        print(self.name + \",\",\"you have purchased\",len(food),\"item(s)\")\n",
    "        for idx in food:\n",
    "            print(idx)\n",
    "        \n",
    "#===============================================================================        \n",
    "    \n",
    "\n",
    "customer_1 = Customer(\"Sam\")\n",
    "customer_1.greet()\n",
    "customer_1.purchase(\"chips\", \"chocolate\", \"orange juice\")\n",
    "print(\"-----------------------------\")\n",
    "customer_2 = Customer(\"David\")\n",
    "customer_2.greet(\"David\")\n",
    "customer_2.purchase(\"orange juice\")"
   ]
  },
  {
   "cell_type": "markdown",
   "metadata": {},
   "source": [
    "# Task-3"
   ]
  },
  {
   "cell_type": "code",
   "execution_count": 1,
   "metadata": {},
   "outputs": [
    {
     "name": "stdout",
     "output_type": "stream",
     "text": [
      "Kunfu is a Male Panda Bear who is 5 years old\n",
      "Pan Pan is a Female Panda Bear who is 3 years old\n",
      "Ming Ming is a Female Panda Bear who is 8 years old\n",
      "Pan Pan sleep 10 hours daily and should have Broccoli ChickenNone\n",
      "Kunfu sleep 4 hours daily and should have Mixed VeggiesNone\n",
      "Ming Ming duration is unknown thus should have only bamboo leavesNone\n"
     ]
    }
   ],
   "source": [
    "class Panda:\n",
    "    def __init__(self,name,gender,age):\n",
    "        self.name=name\n",
    "        self.gender=gender\n",
    "        self.age=age\n",
    "    def sleep(self,hours=\"\"):\n",
    "        if hours!=\"\":\n",
    "            int(hours)\n",
    "            if hours>=3 and hours <=5:\n",
    "                print(self.name,'sleep',hours,'hours daily and should have Mixed Veggies',end=\"\")\n",
    "            elif hours>=6 and hours <=8:\n",
    "                print(self.name,'sleep',hours,'hours daily and should have Eggplant & Tofu',end=\"\")\n",
    "            elif hours>=9 and hours <=11:\n",
    "                print(self.name,'sleep',hours,'hours daily and should have Broccoli Chicken',end=\"\")\n",
    "        else:\n",
    "            print(self.name,'duration is unknown thus should have only bamboo leaves',end=\"\")\n",
    "        \n",
    "            \n",
    "#==========================================================================================================================\n",
    "panda1 = Panda(\"Kunfu\",\"Male\", 5)\n",
    "panda2=Panda(\"Pan Pan\",\"Female\",3)\n",
    "panda3=Panda(\"Ming Ming\",\"Female\",8)\n",
    "print(\"{} is a {} Panda Bear who is {} years old\".format(panda1.name,panda1.gender,panda1.age))\n",
    "print(\"{} is a {} Panda Bear who is {} years old\".format(panda2.name,panda2.gender,panda2.age))\n",
    "print(\"{} is a {} Panda Bear who is {} years old\".format(panda3.name,panda3.gender,panda3.age))\n",
    "print(panda2.sleep(10))\n",
    "print(panda1.sleep(4))\n",
    "print(panda3.sleep())"
   ]
  },
  {
   "cell_type": "markdown",
   "metadata": {},
   "source": [
    "# Task-4"
   ]
  },
  {
   "cell_type": "code",
   "execution_count": 1,
   "metadata": {},
   "outputs": [
    {
     "name": "stdout",
     "output_type": "stream",
     "text": [
      "white cat is sitting\n",
      "Black cat is sitting\n",
      "Brown cat is jumping\n",
      "Red cat is purring\n",
      "Blue cat is sitting\n",
      "Purple cat is jumping\n"
     ]
    }
   ],
   "source": [
    "class Cat:\n",
    "    def __init__(self,color='white',action='sitting'):\n",
    "        self.color=color\n",
    "        self.action=action\n",
    "    def printCat(self,color=\"\",action=\"\"):\n",
    "        if color!=None and action!=None:\n",
    "            print(self.color,\"cat is\",self.action)\n",
    "    def changeColor(self,color):\n",
    "        self.color=color\n",
    "#================================================================================================================\n",
    "\n",
    "c1 = Cat()\n",
    "c2 = Cat(\"Black\")\n",
    "c3 = Cat(\"Brown\", \"jumping\")\n",
    "c4 = Cat(\"Red\", \"purring\")\n",
    "c1.printCat()\n",
    "c2.printCat()\n",
    "c3.printCat()\n",
    "c4.printCat()\n",
    "c1.changeColor(\"Blue\")\n",
    "c3.changeColor(\"Purple\")\n",
    "c1.printCat()\n",
    "c3.printCat()"
   ]
  },
  {
   "cell_type": "markdown",
   "metadata": {},
   "source": [
    "# Task-5"
   ]
  },
  {
   "cell_type": "code",
   "execution_count": 13,
   "metadata": {},
   "outputs": [
    {
     "name": "stdout",
     "output_type": "stream",
     "text": [
      "(0,0)\n",
      "(0,1)\n",
      "(-1,1)\n",
      "(-1,0)\n"
     ]
    }
   ],
   "source": [
    "class Vehicle:\n",
    "    def __init__(self,x=0,y=0):\n",
    "        self.x= x \n",
    "        self.y=y\n",
    "    def print_position(self):\n",
    "        print(\"(\" + str(self.x) +\",\" + str(self.y) + \")\")\n",
    "    def moveUp(self):\n",
    "        self.y=self.y+1\n",
    "    def moveDown(self):\n",
    "        self.y=self.y-1\n",
    "    def moveRight(self):\n",
    "        self.x=self.x+1\n",
    "    def moveLeft(self):\n",
    "        self.x=self.x-1\n",
    "   \n",
    "        \n",
    "        \n",
    "#======================================================================================================================\n",
    "car = Vehicle()\n",
    "car.print_position()\n",
    "car.moveUp()\n",
    "car.print_position()\n",
    "car.moveLeft()\n",
    "car.print_position()\n",
    "car.moveDown()\n",
    "car.print_position()\n",
    "car.moveRight()"
   ]
  },
  {
   "cell_type": "markdown",
   "metadata": {},
   "source": [
    "# Task-6"
   ]
  },
  {
   "cell_type": "code",
   "execution_count": 3,
   "metadata": {},
   "outputs": [
    {
     "name": "stdout",
     "output_type": "stream",
     "text": [
      "Name: Ethen Hunt\n",
      "Language: Java\n",
      "Experience: 10\n",
      "--------------------------\n",
      "Name: James Bond\n",
      "Language: C++\n",
      "Experience: 7\n",
      "--------------------------\n",
      "Name: Jon Snow\n",
      "Language: Python\n",
      "Experience: 4\n",
      "Updating experience of Jon Snow\n",
      "Name: Jon Snow\n",
      "Language: Python\n",
      "Experience: 9\n"
     ]
    }
   ],
   "source": [
    "class Programmer:\n",
    "    def __init__(self,name,language,experience):\n",
    "        self.name=name\n",
    "        self.language=language\n",
    "        self.experience=experience\n",
    "    def printDetails(self):\n",
    "        print(\"Name:\", self.name)\n",
    "        print(\"Language:\", self.language)\n",
    "        print(\"Experience:\", self.experience)\n",
    "        \n",
    "    def addExp(self,update):\n",
    "        print('Updating experience of Jon Snow')\n",
    "        self.experience=self.experience+update\n",
    "#========================================================================================================================\n",
    "p1 = Programmer(\"Ethen Hunt\", \"Java\", 10)\n",
    "p1.printDetails()\n",
    "print('--------------------------')\n",
    "p2 = Programmer(\"James Bond\", \"C++\", 7)\n",
    "p2.printDetails()\n",
    "print('--------------------------')\n",
    "p3 = Programmer(\"Jon Snow\", \"Python\", 4)\n",
    "p3.printDetails()\n",
    "p3.addExp(5)\n",
    "p3.printDetails()"
   ]
  },
  {
   "cell_type": "markdown",
   "metadata": {},
   "source": [
    "# Task-7"
   ]
  },
  {
   "cell_type": "code",
   "execution_count": 14,
   "metadata": {},
   "outputs": [
    {
     "name": "stdout",
     "output_type": "stream",
     "text": [
      "Name:  Harry Potter\n",
      "Id:  123\n",
      "Department:  cse\n",
      "Daily Effort:  3 hour(s)\n",
      "Suggestion: Keep up the good work!\n",
      "========================\n",
      "Name:  John Wick\n",
      "Id:  456\n",
      "Department:  BBA\n",
      "Daily Effort:  2 hour(s)\n",
      "Suggestion: Should give more effort!\n",
      "========================\n",
      "Name:  Naruto Uzumaki\n",
      "Id:  777\n",
      "Department:  Ninja\n",
      "Daily Effort:  6 hour(s)\n",
      "Suggestion: Excellent! Now motivate others.\n"
     ]
    }
   ],
   "source": [
    "class Student:\n",
    "    def __init__(self,name,id,department='cse'):\n",
    "        self.name=name\n",
    "        self.id=id\n",
    "        self.department=department\n",
    "        \n",
    "    def dailyEffort(self,time):\n",
    "        print(\"Name: \",self.name)\n",
    "        print(\"Id: \",self.id)\n",
    "        print('Department: ',self.department)\n",
    "        print('Daily Effort: ',time,\"hour(s)\")\n",
    "        if time<=2:\n",
    "            print('Suggestion: Should give more effort!')\n",
    "        elif time<=4:\n",
    "            print('Suggestion: Keep up the good work!')\n",
    "        else:\n",
    "            print('Suggestion: Excellent! Now motivate others.')\n",
    "\n",
    "    def printDetails(self,details=''):\n",
    "        if details!=\"\":\n",
    "            print(\"Details:\",details)\n",
    "\n",
    "#==========================================================================================================\n",
    "harry = Student('Harry Potter', 123)\n",
    "harry.dailyEffort(3)\n",
    "harry.printDetails()\n",
    "print('========================')\n",
    "john = Student(\"John Wick\", 456, \"BBA\")\n",
    "john.dailyEffort(2)\n",
    "john.printDetails()\n",
    "print('========================')\n",
    "naruto = Student(\"Naruto Uzumaki\", 777, \"Ninja\")\n",
    "naruto.dailyEffort(6)\n",
    "naruto.printDetails()"
   ]
  },
  {
   "cell_type": "markdown",
   "metadata": {},
   "source": [
    "# Task-8"
   ]
  },
  {
   "cell_type": "code",
   "execution_count": 31,
   "metadata": {},
   "outputs": [
    {
     "name": "stdout",
     "output_type": "stream",
     "text": [
      "=========================\n",
      "Name: Thomas\n",
      "Age: 23\n",
      "symptom: Headache\n",
      "=========================\n",
      "Name: Carol\n",
      "Age: 20\n",
      "symptom: Vomiting,Coughing\n",
      "=========================\n",
      "Name: Mike\n",
      "Age: 25\n",
      "symptom: Fever,Headache,Coughing\n",
      "=========================\n"
     ]
    }
   ],
   "source": [
    "class Patient:\n",
    "    def __init__(self,name,age,new=\"\"):\n",
    "        self.name=name\n",
    "        self.age= age\n",
    "        self.new=new\n",
    "   \n",
    "    def add_Symptom(self,*symptom):\n",
    "        if len(symptom)==1:\n",
    "            self.new=symptom[0]\n",
    "        elif len(symptom)>1:\n",
    "            self.new=symptom[0]\n",
    "            for i in range(1,len(symptom)):\n",
    "                self.new=self.new+\",\"+symptom[i]\n",
    "       \n",
    "        \n",
    "    def printPatientDetail(self):\n",
    "        print(\"Name:\",self.name)\n",
    "        print(\"Age:\",self.age)\n",
    "        print(\"symptom:\", self.new)\n",
    "        \n",
    "\n",
    "#========================================================================================================================\n",
    "p1 = Patient(\"Thomas\", 23)\n",
    "p1.add_Symptom(\"Headache\")\n",
    "p2 = Patient('Carol', 20)\n",
    "p2.add_Symptom(\"Vomiting\", \"Coughing\")\n",
    "p3 = Patient(\"Mike\", 25)\n",
    "p3.add_Symptom(\"Fever\", \"Headache\", \"Coughing\")\n",
    "print(\"=========================\")\n",
    "p1.printPatientDetail()\n",
    "print(\"=========================\")\n",
    "p2.printPatientDetail()\n",
    "print(\"=========================\")\n",
    "p3.printPatientDetail()\n",
    "print(\"=========================\")"
   ]
  },
  {
   "cell_type": "markdown",
   "metadata": {},
   "source": [
    "# Task-9"
   ]
  },
  {
   "cell_type": "code",
   "execution_count": 29,
   "metadata": {},
   "outputs": [
    {
     "name": "stdout",
     "output_type": "stream",
     "text": [
      "=========================\n",
      "Name: Captain America\n",
      "Partner: Bucky Barnes\n",
      "Super powers: Stamina,Slowed ageing\n",
      "=========================\n",
      "Name: Doctor Strange\n",
      "Partner: Ancient One\n",
      "Super powers: Mastery of magic\n",
      "=========================\n",
      "Name: Iron Man\n",
      "Partner: War Machine\n",
      "Super powers: Genius level intellect,Scientist \n",
      "=========================\n"
     ]
    }
   ],
   "source": [
    "class Avengers:\n",
    "    def __init__(self,name,partner,Super_powers=\"\"):\n",
    "        self.name=name\n",
    "        self.partner=partner\n",
    "        self.Super_powers=Super_powers\n",
    "    \n",
    "    def super_powers(self,*powers):\n",
    "        if len(powers) == 1:\n",
    "            self.Super_powers= powers[0]\n",
    "        elif len(powers) > 1:\n",
    "            self.Super_powers =  powers[0]\n",
    "            for i in range(1, len(powers)):\n",
    "                self.Super_powers = self.Super_powers + \",\" + powers[i]\n",
    "\n",
    "    def printAvengersDetail(self):\n",
    "        print(\"Name:\", self.name)\n",
    "        print(\"Partner:\", self.partner)\n",
    "        print(\"Super powers:\",self.Super_powers)\n",
    "\n",
    "\n",
    "#========================================================================================================================\n",
    "a1 = Avengers('Captain America', 'Bucky Barnes')\n",
    "a1.super_powers('Stamina', 'Slowed ageing')\n",
    "a2 = Avengers('Doctor Strange', 'Ancient One')\n",
    "a2.super_powers('Mastery of magic')\n",
    "a3 = Avengers('Iron Man', 'War Machine')\n",
    "a3.super_powers('Genius level intellect', 'Scientist ')\n",
    "print(\"=========================\")\n",
    "a1.printAvengersDetail()\n",
    "print(\"=========================\")\n",
    "a2.printAvengersDetail()\n",
    "print(\"=========================\")\n",
    "a3.printAvengersDetail()\n",
    "print(\"=========================\")"
   ]
  },
  {
   "cell_type": "markdown",
   "metadata": {},
   "source": [
    "# Task-10"
   ]
  },
  {
   "cell_type": "code",
   "execution_count": 2,
   "metadata": {},
   "outputs": [
    {
     "name": "stdout",
     "output_type": "stream",
     "text": [
      "Name: Naruto\n",
      "Rank: Genin\n",
      "Number of mission: 0\n",
      "Salary: 250\n",
      "====================\n",
      "Name: Shikamaru\n",
      "Rank: Genin\n",
      "Number of mission: 0\n",
      "Salary: 0\n",
      "Name: Shikamaru\n",
      "Rank: Chunin\n",
      "Number of mission: 0\n",
      "Salary: 1000\n",
      "====================\n",
      "Name: Neiji\n",
      "Rank: Jonin\n",
      "Number of mission: 0\n",
      "Salary: 2500\n"
     ]
    }
   ],
   "source": [
    "class Shinobi:\n",
    "    def __init__(self,name,rank,misson=0,salary=0):\n",
    "        self.name=name\n",
    "        self.rank=rank\n",
    "        self.salary=salary\n",
    "        self.misson=misson\n",
    "    def calSalary(self,mission):\n",
    "        if self.rank=='Genin':\n",
    "            self.salary=mission*50\n",
    "        elif self.rank==\"Chunin\":\n",
    "            self.salary=mission*100\n",
    "        else:\n",
    "            self.salary=mission*500\n",
    "    def printInfo(self):\n",
    "        print(\"Name:\",self.name)\n",
    "        print(\"Rank:\",self.rank)\n",
    "        print(\"Number of mission:\",self.misson)\n",
    "        print(\"Salary:\",self.salary)\n",
    "    def changeRank(self,Rank):\n",
    "        self.rank=Rank\n",
    "              \n",
    "\n",
    "#================================================================================================================\n",
    "naruto = Shinobi(\"Naruto\", \"Genin\")\n",
    "naruto.calSalary(5)\n",
    "naruto.printInfo()\n",
    "print('====================')\n",
    "shikamaru = Shinobi('Shikamaru', \"Genin\")\n",
    "shikamaru.printInfo()\n",
    "shikamaru.changeRank(\"Chunin\")\n",
    "shikamaru.calSalary(10)\n",
    "shikamaru.printInfo()\n",
    "print('====================')\n",
    "neiji = Shinobi(\"Neiji\", \"Jonin\")\n",
    "neiji.calSalary(5)\n",
    "neiji.printInfo()"
   ]
  },
  {
   "cell_type": "code",
   "execution_count": null,
   "metadata": {},
   "outputs": [],
   "source": []
  }
 ],
 "metadata": {
  "kernelspec": {
   "display_name": "Python 3",
   "language": "python",
   "name": "python3"
  },
  "language_info": {
   "codemirror_mode": {
    "name": "ipython",
    "version": 3
   },
   "file_extension": ".py",
   "mimetype": "text/x-python",
   "name": "python",
   "nbconvert_exporter": "python",
   "pygments_lexer": "ipython3",
   "version": "3.7.6-final"
  }
 },
 "nbformat": 4,
 "nbformat_minor": 4
}