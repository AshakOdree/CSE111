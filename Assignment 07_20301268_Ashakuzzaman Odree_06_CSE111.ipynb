{
 "cells": [
  {
   "cell_type": "markdown",
   "metadata": {},
   "source": [
    "# Task-1"
   ]
  },
  {
   "cell_type": "code",
   "execution_count": 6,
   "metadata": {},
   "outputs": [
    {
     "name": "stdout",
     "output_type": "stream",
     "text": [
      "Name: defult Department: BBA\n",
      "Name: Humpty Dumpty Department: BBA\n",
      "Name: Little Bo Peep Department: BBA\n"
     ]
    }
   ],
   "source": [
    "class Student:\n",
    "    def __init__(self, name='Just a student', dept='nothing'):\n",
    "        self.__name = name\n",
    "        self.__department = dept\n",
    "    def set_department(self, dept):\n",
    "        self.__department = dept\n",
    "    def get_name(self):\n",
    "        return self.__name\n",
    "    def set_name(self,name):\n",
    "        self.__name = name\n",
    "    def __str__(self):\n",
    "        return 'Name: '+self.__name+' Department: '+self.__department\n",
    "#write your code here\n",
    "class BBA_Student(Student):\n",
    "    def __init__(self,name='defult',dept='BBA'):\n",
    "        super().__init__(name,dept)\n",
    "#=========================================================================================\n",
    "print(BBA_Student())\n",
    "print(BBA_Student('Humpty Dumpty'))\n",
    "print(BBA_Student('Little Bo Peep'))"
   ]
  },
  {
   "cell_type": "markdown",
   "metadata": {},
   "source": [
    "# Task-2"
   ]
  },
  {
   "cell_type": "code",
   "execution_count": 1,
   "metadata": {},
   "outputs": [
    {
     "output_type": "stream",
     "name": "stdout",
     "text": [
      "Part 1\n------\n(0 , 0)\n(0 , 1)\n(-1 , 1)\n(-1 , 0)\n(0 , 0)\n------\nPart 2\n------\n(0 , 0)\n(-1 , -1)\nFalse\nTrue\n"
     ]
    }
   ],
   "source": [
    "class Vehicle: \n",
    "    def __init__(self): \n",
    "        self.x = 0 \n",
    "        self.y = 0 \n",
    "    def moveUp(self): \n",
    "        self.y+=1\n",
    "    def moveDown(self): \n",
    "        self.y-=1\n",
    "    def moveRight(self): \n",
    "        self.x+=1 \n",
    "    def moveLeft(self): \n",
    "        self.x-=1 \n",
    "    def __str__(self): \n",
    "        return '('+str(self.x)+' , '+str(self.y)+')' \n",
    "#write your code here\n",
    "class  Vehicle2010(Vehicle):\n",
    "    def moveLowerLeft(self):\n",
    "        super().moveDown()\n",
    "        super().moveLeft()\n",
    "    def moveUpperRight(self):\n",
    "        super().moveUp()\n",
    "        super().moveRight()\n",
    "    def moveLowerRight(self):\n",
    "        super().moveDown()\n",
    "        super().moveRight()\n",
    "    def moveUpperLeft(self): \n",
    "        super().moveUp()\n",
    "        super().moveLeft()\n",
    "    def equals(self,other):\n",
    "        self.other=other\n",
    "        if self.x==other.x and self.y==other.y:\n",
    "            return 'True'\n",
    "        else:\n",
    "            return 'False'\n",
    "\n",
    "#=====================================================================================\n",
    "print('Part 1') \n",
    "print('------') \n",
    "car = Vehicle() \n",
    "print(car) \n",
    "car.moveUp() \n",
    "print(car) \n",
    "car.moveLeft() \n",
    "print(car) \n",
    "car.moveDown() \n",
    "print(car) \n",
    "car.moveRight() \n",
    "print(car) \n",
    "print('------') \n",
    "print('Part 2') \n",
    "print('------') \n",
    "car1 = Vehicle2010() \n",
    "print(car1) \n",
    "car1.moveLowerLeft() \n",
    "print(car1) \n",
    "car2 = Vehicle2010() \n",
    "car2.moveLeft() \n",
    "print(car1.equals(car2)) \n",
    "car2.moveDown() \n",
    "print(car1.equals(car2))"
   ]
  },
  {
   "cell_type": "markdown",
   "metadata": {},
   "source": [
    "# Task-3"
   ]
  },
  {
   "cell_type": "code",
   "execution_count": 4,
   "metadata": {},
   "outputs": [
    {
     "name": "stdout",
     "output_type": "stream",
     "text": [
      "Cricket Tournament Name: Default\n",
      "Number of Teams: 0\n",
      "Type: No type\n",
      "-----------------------\n",
      "Cricket Tournament Name: IPL\n",
      "Number of Teams: 10\n",
      "Type: t20\n",
      "-----------------------\n",
      "Tennis Tournament Name: Roland Garros\n",
      "Number of Players: 128\n"
     ]
    }
   ],
   "source": [
    "class Tournament:\n",
    "    def __init__(self,name='Default'): \n",
    "        self.__name = name \n",
    "    def set_name(self,name): \n",
    "        self.__name = name \n",
    "    def get_name(self): \n",
    "        return self.__name \n",
    "#write your code here \n",
    "class Cricket_Tournament(Tournament):\n",
    "    def __init__(self,name='Default',num=0,type=\"No type\"):\n",
    "        self.num=num\n",
    "        self.type=type\n",
    "        super().__init__(name)\n",
    "    def detail(self):\n",
    "        print(\"Cricket Tournament Name:\",self.get_name())\n",
    "        print(\"Number of Teams:\",self.num)\n",
    "        return \"Type: \"+ str(self.type)\n",
    "class Tennis_Tournament(Cricket_Tournament):\n",
    "    def detail(self):\n",
    "        print(\"Tennis Tournament Name:\",self.get_name())\n",
    "        return \"Number of Players: \"+str(self.num)\n",
    "\n",
    "#=============================================================================================================\n",
    "ct1 = Cricket_Tournament() \n",
    "print(ct1.detail()) \n",
    "print(\"-----------------------\") \n",
    "ct2 = Cricket_Tournament(\"IPL\",10,\"t20\") \n",
    "print(ct2.detail()) \n",
    "print(\"-----------------------\") \n",
    "tt = Tennis_Tournament(\"Roland Garros\",128) \n",
    "print(tt.detail())"
   ]
  },
  {
   "cell_type": "markdown",
   "metadata": {},
   "source": [
    "# Task-4"
   ]
  },
  {
   "cell_type": "code",
   "execution_count": 2,
   "metadata": {},
   "outputs": [
    {
     "name": "stdout",
     "output_type": "stream",
     "text": [
      "ID: 1 Title: The Alchemist Price: 500\n",
      "ISBN: 97806 Publisher: HarperCollins\n",
      "-----------------------\n",
      "ID: 2 Title: Shotto Price: 300\n",
      "Band: Warfaze Duration: 50minutes\n",
      "Genre: Hard Rock\n"
     ]
    }
   ],
   "source": [
    "class Product: \n",
    "    def __init__(self,id, title, price): \n",
    "        self.__id = id \n",
    "        self.__title = title \n",
    "        self.__price = price \n",
    "    def get_id_title_price(self): \n",
    "        return \"ID: \"+str(self.__id)+\" Title: \"+self.__title+ \" Price: \"+str(self.__price) \n",
    "#write your code here \n",
    "class Book(Product):\n",
    "    def __init__(self,id, title, price,num,pub):\n",
    "        self.num = num\n",
    "        self.pub = pub\n",
    "        super().__init__(id,title, price)\n",
    "    \n",
    "    def printDetail(self):\n",
    "        print(super().get_id_title_price())\n",
    "        return \"ISBN: \"+str(self.num)+\" Publisher: \"+str(self.pub)\n",
    "class CD(Product):\n",
    "    def __init__(self,id, title, price,band,duraction,genre):\n",
    "        self.band =band\n",
    "        self.duraction = duraction\n",
    "        self.genre = genre\n",
    "        super().__init__(id, title, price)\n",
    "    def printDetail(self):\n",
    "        print(super().get_id_title_price())\n",
    "        print(\"Band: \"+str(self.band),\"Duration:\",str(self.duraction)+\"minutes\")\n",
    "        return \"Genre: \"+ str(self.genre)\n",
    "\n",
    "#================================================================================================\n",
    "book = Book(1,\"The Alchemist\",500,\"97806\",\"HarperCollins\") \n",
    "print(book.printDetail()) \n",
    "print(\"-----------------------\") \n",
    "cd = CD(2,\"Shotto\",300,\"Warfaze\",50,\"Hard Rock\") \n",
    "print(cd.printDetail())"
   ]
  },
  {
   "cell_type": "markdown",
   "metadata": {},
   "source": [
    "# Task-5"
   ]
  },
  {
   "cell_type": "code",
   "execution_count": 3,
   "metadata": {},
   "outputs": [
    {
     "output_type": "stream",
     "name": "stdout",
     "text": [
      "Animal does not make sound\nmeow\nbark\n"
     ]
    }
   ],
   "source": [
    "class Animal: \n",
    "    def __init__(self,sound): \n",
    "        self.__sound = sound \n",
    "    def makeSound(self): \n",
    "        return self.__sound \n",
    "class Printer: \n",
    "    def printSound(self, a):\n",
    "        print(a.makeSound()) \n",
    "#write your code here\n",
    "class Dog(Animal):\n",
    "    def dog(self):\n",
    "        pass\n",
    "class Cat(Animal):\n",
    "    def cat(self):\n",
    "        pass\n",
    "#==================================================================================  \n",
    "d1 = Dog('bark') \n",
    "c1 = Cat('meow') \n",
    "a1 = Animal('Animal does not make sound') \n",
    "pr = Printer() \n",
    "pr.printSound(a1) \n",
    "pr.printSound(c1) \n",
    "pr.printSound(d1)"
   ]
  },
  {
   "cell_type": "markdown",
   "metadata": {},
   "source": [
    "# Task-6"
   ]
  },
  {
   "cell_type": "code",
   "execution_count": 9,
   "metadata": {},
   "outputs": [
    {
     "name": "stdout",
     "output_type": "stream",
     "text": [
      "Shape name: Default\n",
      "Height: 0, Base: 0\n",
      "Area: 0.0\n",
      "--------------------------\n",
      "Shape name: Triangle\n",
      "Height: 10, Base: 5\n",
      "Area: 25.0\n",
      "---------------------------\n",
      "Shape name: Trapezoid\n",
      "Height: 10, Base: 6, Side_A: 4\n",
      "Area: 50.0\n"
     ]
    }
   ],
   "source": [
    "class Shape: \n",
    "    def __init__(self, name='Default', height=0, base=0): \n",
    "        self.area = 0 \n",
    "        self.name = name \n",
    "        self.height = height \n",
    "        self.base = base \n",
    "    def get_height_base(self): \n",
    "        return \"Height: \"+str(self.height)+\", Base: \"+str(self.base) \n",
    "#write your code here \n",
    "class triangle(Shape):\n",
    "    def calcArea(self):\n",
    "        return \"Area: \"+str((0.5*self.base)*self.height)\n",
    "    def printDetail(self):\n",
    "        print(\"Shape name:\",self.name)\n",
    "        print(self.get_height_base())\n",
    "        return self.calcArea()\n",
    "class trapezoid(Shape):\n",
    "    def __init__(self,name='Default', height=0, base=0,side=0):\n",
    "        self.side= side\n",
    "        super().__init__(name,height,base)\n",
    "    def calcArea(self):\n",
    "        return \"Area: \"+str(((self.base+self.side)/2)*self.height)\n",
    "    def printDetail(self):\n",
    "        print(\"Shape name:\",self.name)\n",
    "        print(\"Height: \"+str(self.height)+\", Base: \"+str(self.base)+\", Side_A: \"+str(self.side))\n",
    "        return self.calcArea()\n",
    "\n",
    "#================================================================================================\n",
    "tri_default = triangle() \n",
    "tri_default.calcArea() \n",
    "print(tri_default.printDetail()) \n",
    "print('--------------------------') \n",
    "tri = triangle('Triangle', 10, 5) \n",
    "tri.calcArea() \n",
    "print(tri.printDetail()) \n",
    "print('---------------------------') \n",
    "trap = trapezoid('Trapezoid', 10, 6, 4) \n",
    "trap.calcArea() \n",
    "print(trap.printDetail())"
   ]
  },
  {
   "cell_type": "markdown",
   "metadata": {},
   "source": [
    "# Task-7"
   ]
  },
  {
   "cell_type": "code",
   "execution_count": 7,
   "metadata": {},
   "outputs": [
    {
     "name": "stdout",
     "output_type": "stream",
     "text": [
      "Name: Ronaldo, Team Name: Juventus\n",
      "Team Role: Striker\n",
      "Total Goal: 25, Total Played: 32\n",
      "Goal Ratio: 0.78125\n",
      "Match Earning: 25320k\n",
      "------------------------------------------\n",
      "Name: Zidane, Team Name: Real Madrid\n",
      "Team Role: Manager\n",
      "Total Win: 25\n",
      "Match Earning: 25000k\n"
     ]
    }
   ],
   "source": [
    "class Football: \n",
    "    def __init__(self, team_name, name, role): \n",
    "        self.__team = team_name \n",
    "        self.__name = name \n",
    "        self.role = role \n",
    "        self.earning_per_match = 0 \n",
    "    def get_name_team(self): \n",
    "        return 'Name: '+self.__name+', Team Name: ' +self.__team \n",
    "#write your code here\n",
    "class Player(Football):\n",
    "    def __init__(self, team_name, name, role,goal,match):\n",
    "        self.match=match\n",
    "        self.goal=goal\n",
    "        super().__init__(team_name,name, role)\n",
    "    def calculate_ratio(self):\n",
    "        return (\"Goal Ratio: \"+str(self.goal/self.match))\n",
    "    def print_details(self):\n",
    "        print(self.get_name_team())\n",
    "        print(\"Team Role:\",self.role)\n",
    "        print(\"Total Goal: \"+str(self.goal)+\", Total Played: \"+str(self.match))\n",
    "        print(self.calculate_ratio())\n",
    "        print(\"Match Earning: \"+str((self.goal*1000)+(self.match*10))+\"k\")\n",
    "class Manager(Football):\n",
    "    def __init__(self, team_name, name, role,win):\n",
    "        self.win=win\n",
    "        super().__init__(team_name, name, role)\n",
    "    def print_details(self):\n",
    "        print(self.get_name_team())\n",
    "        print(\"Team Role:\",self.role)\n",
    "        print(\"Total Win:\",self.win)\n",
    "        print (\"Match Earning:\",str(self.win*1000)+\"k\")\n",
    "\n",
    "#=================================================== \n",
    "player_one = Player('Juventus', 'Ronaldo', 'Striker', 25, 32) \n",
    "player_one.calculate_ratio() \n",
    "player_one.print_details() \n",
    "print('------------------------------------------') \n",
    "manager_one = Manager('Real Madrid', 'Zidane', 'Manager', 25) \n",
    "manager_one.print_details()"
   ]
  },
  {
   "cell_type": "code",
   "execution_count": null,
   "metadata": {},
   "outputs": [],
   "source": []
  }
 ],
 "metadata": {
  "kernelspec": {
   "display_name": "Python 3",
   "language": "python",
   "name": "python3"
  },
  "language_info": {
   "codemirror_mode": {
    "name": "ipython",
    "version": 3
   },
   "file_extension": ".py",
   "mimetype": "text/x-python",
   "name": "python",
   "nbconvert_exporter": "python",
   "pygments_lexer": "ipython3",
   "version": "3.7.6-final"
  }
 },
 "nbformat": 4,
 "nbformat_minor": 4
}