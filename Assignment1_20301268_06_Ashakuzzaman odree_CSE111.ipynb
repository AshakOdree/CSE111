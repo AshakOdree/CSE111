{
 "cells": [
  {
   "cell_type": "markdown",
   "metadata": {},
   "source": [
    "# Task-1"
   ]
  },
  {
   "cell_type": "code",
   "execution_count": 15,
   "metadata": {},
   "outputs": [
    {
     "name": "stdout",
     "output_type": "stream",
     "text": [
      "enter a word: BaNaNa\n",
      "banana\n"
     ]
    }
   ],
   "source": [
    "word = input('enter a word: ')\n",
    "upp = 0\n",
    "lpp = 0\n",
    "for i in word:\n",
    "    if ord(i) >=97 and ord(i)<=122:\n",
    "        upp+=1\n",
    "    elif ord(i) >=65 and ord(i)<=90:\n",
    "        lpp+=1\n",
    "if upp<lpp:\n",
    "    print(word.upper())\n",
    "    \n",
    "else:\n",
    "    print(word.lower())   "
   ]
  },
  {
   "cell_type": "markdown",
   "metadata": {},
   "source": [
    "# Task-2"
   ]
  },
  {
   "cell_type": "code",
   "execution_count": 5,
   "metadata": {},
   "outputs": [
    {
     "name": "stdout",
     "output_type": "stream",
     "text": [
      "enter anything: ODREE\n",
      "Word\n"
     ]
    }
   ],
   "source": [
    "string = input('enter anything: ')\n",
    "num = 0\n",
    "word = 0\n",
    "for i in string:\n",
    "    if ord(i)>=48 and ord(i) <=59:\n",
    "        num+=1\n",
    "    elif ord(i)>=64 and ord(i)<=90 or ord(i)>=97 and ord(i)<=122:\n",
    "        word+=1\n",
    "if word ==0 and num !=0:\n",
    "    print('NUMBER')\n",
    "if word!=0 and num !=0:\n",
    "    print('MIXED')\n",
    "if word!=0 and num==0:\n",
    "    print('Word')"
   ]
  },
  {
   "cell_type": "markdown",
   "metadata": {},
   "source": [
    "# Task-3"
   ]
  },
  {
   "cell_type": "code",
   "execution_count": 4,
   "metadata": {},
   "outputs": [
    {
     "name": "stdout",
     "output_type": "stream",
     "text": [
      "coDIng\n",
      "BLANK\n"
     ]
    }
   ],
   "source": [
    "string=input()\n",
    "lis=[]\n",
    "for i in range(len(string)):\n",
    "    if ord(string[i])>=65 and ord(string[i])<=90:\n",
    "        lis.append(i)\n",
    "\n",
    "if lis[0]+1==lis[1]:\n",
    "    print(\"BLANK\")\n",
    "else:\n",
    "    print(\"glad\")"
   ]
  },
  {
   "cell_type": "markdown",
   "metadata": {},
   "source": [
    "# Task-4"
   ]
  },
  {
   "cell_type": "code",
   "execution_count": 7,
   "metadata": {},
   "outputs": [
    {
     "name": "stdout",
     "output_type": "stream",
     "text": [
      "This book is too good!\n",
      "This book is excellent!  "
     ]
    }
   ],
   "source": [
    "string=[str(j)for j in input().split() ]\n",
    "for i in range(len(string)-1):\n",
    "    if string[i]==\"too\" and string[i+1]==\"good!\":\n",
    "        string[i]=\"excellent!\"\n",
    "        string[i + 1]=\"\"\n",
    "\n",
    "for i in range(len(string)):\n",
    "    print(string[i],end=\" \")"
   ]
  },
  {
   "cell_type": "markdown",
   "metadata": {},
   "source": [
    "# Task-5"
   ]
  },
  {
   "cell_type": "code",
   "execution_count": 1,
   "metadata": {},
   "outputs": [
    {
     "name": "stdout",
     "output_type": "stream",
     "text": [
      "harry\n",
      "hermione\n",
      "hrrhr\n"
     ]
    }
   ],
   "source": [
    "inp1=input()\n",
    "inp2=input()\n",
    "out=\"\"\n",
    "for i in range(len(inp1)):\n",
    "    if inp1[i] in inp2:\n",
    "        out +=inp1[i]\n",
    "for j in range(len(inp2)):\n",
    "    if inp2[j] in inp1:\n",
    "        out += inp2[j]\n",
    "print(out)"
   ]
  },
  {
   "cell_type": "markdown",
   "metadata": {},
   "source": [
    "# Task-6"
   ]
  },
  {
   "cell_type": "code",
   "execution_count": 2,
   "metadata": {},
   "outputs": [
    {
     "name": "stdout",
     "output_type": "stream",
     "text": [
      "ohmybracu\n",
      "Uppercase character missing, Digit missing, Special character missing\n"
     ]
    }
   ],
   "source": [
    "passward=input()\n",
    "lis = []\n",
    "lower=0\n",
    "upper=0\n",
    "special=0\n",
    "digit=0\n",
    "for i in range(len(passward)):\n",
    "    if ord(passward[i])>=65 and ord(passward[i])<=90:\n",
    "        upper=upper+1\n",
    "    elif ord(passward[i])>=97 and ord(passward[i])<=122:\n",
    "        lower=lower+1\n",
    "    elif passward[i]==\"_\" or passward[i]==\"@\" or passward[i]==\"#\" or passward[i]==\"$\" :\n",
    "        special=special+1\n",
    "    elif ord(passward[i])>=48 and ord(passward[i])<=57:\n",
    "        digit=digit+1\n",
    "    else:\n",
    "        pass\n",
    "if special!=0 and upper!=0 and digit!=0 and lower!=0:\n",
    "    print(\"OK\")\n",
    "if lower==0:\n",
    "    lis.append(\"Lowercase character missing\")\n",
    "if upper==0:\n",
    "    lis.append(\"Uppercase character missing\")\n",
    "if digit==0:\n",
    "    lis.append(\"Digit missing\")\n",
    "if special==0:\n",
    "    lis.append(\"Special character missing\")\n",
    "else:\n",
    "    pass\n",
    "for i in range(len(lis)):\n",
    "    if len(lis)==1:\n",
    "        print(lis[i])\n",
    "    elif i==len(lis)-1:\n",
    "        print(lis[i])\n",
    "    elif len(lis)>1:\n",
    "        print(lis[i],end=\", \")"
   ]
  },
  {
   "cell_type": "markdown",
   "metadata": {},
   "source": [
    "# Task-7"
   ]
  },
  {
   "cell_type": "code",
   "execution_count": 2,
   "metadata": {},
   "outputs": [
    {
     "name": "stdout",
     "output_type": "stream",
     "text": [
      "10\n",
      "20\n",
      "30\n",
      "10\n",
      "20\n",
      "40\n",
      "50\n",
      "80\n",
      "90\n",
      "STOP\n",
      "10 - 2 times\n",
      "20 - 2 times\n",
      "30 - 1 times\n",
      "40 - 1 times\n",
      "50 - 1 times\n",
      "80 - 1 times\n",
      "90 - 1 times\n"
     ]
    }
   ],
   "source": [
    "lis=[]\n",
    "while True :\n",
    "    num = input()\n",
    "    if num == 'STOP':\n",
    "        break\n",
    "    else:\n",
    "        lis.append(num)\n",
    "new=[]\n",
    "for i in lis:\n",
    "    if i not in new:\n",
    "        new.append(i)\n",
    "for i in range(0,len(new)):\n",
    "    print(new[i],'-',lis.count(new[i]), 'times')"
   ]
  },
  {
   "cell_type": "markdown",
   "metadata": {},
   "source": [
    "# Task-8"
   ]
  },
  {
   "cell_type": "code",
   "execution_count": 24,
   "metadata": {},
   "outputs": [
    {
     "name": "stdout",
     "output_type": "stream",
     "text": [
      "4\n",
      "1 2 3 \n",
      "4 5 6\n",
      "10 11 12\n",
      "7 8 9\n",
      "33\n",
      "[10, 11, 12]\n"
     ]
    }
   ],
   "source": [
    "highest_sum=0\n",
    "for i in range(int(input())):\n",
    "    lis=[int(i) for i in input().split()]\n",
    "    total=0\n",
    "    for j in range(len(lis)):\n",
    "        total=total+lis[j]\n",
    "    if total>highest_sum:\n",
    "        highest_sum=total\n",
    "        maxi_sum_list=lis\n",
    "print(highest_sum)\n",
    "print(maxi_sum_list)"
   ]
  },
  {
   "cell_type": "markdown",
   "metadata": {},
   "source": [
    "# Task-9"
   ]
  },
  {
   "cell_type": "code",
   "execution_count": 3,
   "metadata": {},
   "outputs": [
    {
     "name": "stdout",
     "output_type": "stream",
     "text": [
      "enter number: 2 3 6\n",
      "enter mamber: 3 4 5\n",
      "[6, 8, 10, 9, 12, 15, 18, 24, 30]\n"
     ]
    }
   ],
   "source": [
    "list1 =[int(i) for i in input('enter number: ').split( )]\n",
    "list2 =[int(j) for j in input('enter mamber: ').split( )]\n",
    "list3 =[]\n",
    "for k in list1:\n",
    "    for l in list2:\n",
    "        list3.append(k*l)\n",
    "print(list3)"
   ]
  },
  {
   "cell_type": "markdown",
   "metadata": {},
   "source": [
    "# Task-10"
   ]
  },
  {
   "cell_type": "code",
   "execution_count": 33,
   "metadata": {},
   "outputs": [
    {
     "name": "stdout",
     "output_type": "stream",
     "text": [
      "2 1 4 6 10\n",
      "UB Jumper\n",
      "2 1 4 6 10\n",
      "UB Jumper\n",
      "STOP\n"
     ]
    }
   ],
   "source": [
    "while True:\n",
    "    user=input()\n",
    "    if user==\"STOP\":\n",
    "        break\n",
    "    else:\n",
    "        user=user.split()\n",
    "        list1=[]\n",
    "        list2=[1,2,3,4]\n",
    "        list3=[]\n",
    "        for i in range(len(user)):\n",
    "            list1.append(int(user[i]))\n",
    "        for j in range(1,len(list1)):\n",
    "            if list1[j]<list1[j-1]:\n",
    "                a=list1[j-1] - list1[j]\n",
    "                list3.append(a)\n",
    "            else:\n",
    "                b=list1[j] - list1[j-1]\n",
    "                list3.append(b)\n",
    "        ub=0\n",
    "        notub=0\n",
    "        for i in range(len(list3)):\n",
    "            if list3[i] in list2:\n",
    "                ub=ub+1\n",
    "            else:\n",
    "                notub=notub+1\n",
    "\n",
    "        if notub != 0:\n",
    "            print(\"Not UB Jumper\")\n",
    "        else:\n",
    "            print(\"UB Jumper\")"
   ]
  },
  {
   "cell_type": "markdown",
   "metadata": {},
   "source": [
    "# Task-11"
   ]
  },
  {
   "cell_type": "code",
   "execution_count": 25,
   "metadata": {},
   "outputs": [
    {
     "name": "stdout",
     "output_type": "stream",
     "text": [
      "enter anything: Bracu1234\n",
      "acruB1324"
     ]
    }
   ],
   "source": [
    "string =input('enter anything: ')\n",
    "list1 = []\n",
    "list2 = []\n",
    "list3 = []\n",
    "list4 = []\n",
    "list5 = []\n",
    "list6 = []\n",
    "for i in string:\n",
    "    list1.append(i)\n",
    "for j in list1:\n",
    "    if ord(j)>=97 and ord(j)<=122:\n",
    "        list2.append(j)\n",
    "list2.sort()\n",
    "for k in list1:\n",
    "    if ord(k)>=65 and ord(k)<=90:\n",
    "        list3.append(k)\n",
    "list3.sort()\n",
    "for m in list1:\n",
    "    if m.isdigit():\n",
    "        list4.append(int(m))\n",
    "list4.sort\n",
    "for x in list4:\n",
    "    if x%2!=0:\n",
    "        list5.append(x)\n",
    "    elif x%2==0:\n",
    "        list6.append(x)\n",
    "list5.sort()\n",
    "list6.sort()\n",
    "result= list2+list3+list5+list6\n",
    "for st in result:\n",
    "    print(st,end='')"
   ]
  },
  {
   "cell_type": "markdown",
   "metadata": {},
   "source": [
    "# Task-12"
   ]
  },
  {
   "cell_type": "code",
   "execution_count": 20,
   "metadata": {},
   "outputs": [
    {
     "name": "stdout",
     "output_type": "stream",
     "text": [
      "enter mamber and participate time: 6 4\n",
      "member participant times: 0\n",
      "member participant times: 1\n",
      "member participant times: 2\n",
      "member participant times: 3\n",
      "member participant times: 4\n",
      "member participant times: 5\n",
      "[0, 1, 2, 3, 4, 5]\n",
      "0\n"
     ]
    }
   ],
   "source": [
    "list1 =[int(i) for i in input('enter mamber and participate time: ').split( )]\n",
    "list2 = []\n",
    "count = 0\n",
    "num = list1[0]\n",
    "for i in range(num):\n",
    "    a = int(input('member participant times: '))\n",
    "    list2.append(a)\n",
    "print(list2)\n",
    "x = list1[0]\n",
    "y = list1[1]\n",
    "for j in list2:\n",
    "    if 5 - j >=y:\n",
    "        count+=1\n",
    "n = count//3\n",
    "print(n)"
   ]
  },
  {
   "cell_type": "markdown",
   "metadata": {},
   "source": [
    "# Task-13"
   ]
  },
  {
   "cell_type": "code",
   "execution_count": 10,
   "metadata": {},
   "outputs": [
    {
     "name": "stdout",
     "output_type": "stream",
     "text": [
      "{'a': 400, 'b': 300, 'c': 200, 'd': 700, 'e': 200}\n",
      "valoues:(200, 300, 400, 700)\n"
     ]
    }
   ],
   "source": [
    "dict1 = {'a': 100, 'b': 100, 'c': 200, 'd': 300 }\n",
    "dict2 = {'a': 300, 'b': 200, 'd': 400, 'e': 200}\n",
    "new = dict(dict1)\n",
    "new.update(dict2)\n",
    "for key,value in dict1.items():\n",
    "    for key1,value1 in dict2.items():\n",
    "        if key == key1 :\n",
    "            new[key]=(value +value1)\n",
    "print(new)\n",
    "last = {}\n",
    "for a , b in new.items():\n",
    "    if b not in last.values():\n",
    "        last[a] = b\n",
    "print(\"valoues:\"+str(tuple(sorted(last.values()))))"
   ]
  },
  {
   "cell_type": "markdown",
   "metadata": {},
   "source": [
    "# Task-14"
   ]
  },
  {
   "cell_type": "code",
   "execution_count": 1,
   "metadata": {},
   "outputs": [
    {
     "name": "stdout",
     "output_type": "stream",
     "text": [
      "10\n",
      "20\n",
      "30\n",
      "10\n",
      "50\n",
      "90\n",
      "STOP\n",
      "10 - 2 times\n",
      "20 - 1 times\n",
      "30 - 1 times\n",
      "50 - 1 times\n",
      "90 - 1 times\n"
     ]
    }
   ],
   "source": [
    "lis=[]\n",
    "while True :\n",
    "    num = input()\n",
    "    if num == 'STOP':\n",
    "        break\n",
    "    else:\n",
    "        lis.append(num)\n",
    "dic={}\n",
    "for i in lis:\n",
    "    num1 =int(i)\n",
    "    if num1 not in dic.keys():\n",
    "        dic[num1] = 1\n",
    "    else:\n",
    "        dic[num1]+=1\n",
    "for num,time in dic.items():\n",
    "    print(num,'-',time, 'times')"
   ]
  },
  {
   "cell_type": "markdown",
   "metadata": {},
   "source": [
    "# Task-15"
   ]
  },
  {
   "cell_type": "code",
   "execution_count": 12,
   "metadata": {},
   "outputs": [
    {
     "name": "stdout",
     "output_type": "stream",
     "text": [
      "{'value1': ['key1', 'key3'], 'value2': ['key2']}\n"
     ]
    }
   ],
   "source": [
    "dict1 = {'key1' : 'value1', 'key2' : 'value2', 'key3' : 'value1'}\n",
    "dict2 = {}\n",
    "for key , value in dict1.items():\n",
    "    if value not in dict2:\n",
    "        dict2[value] = [key]\n",
    "    else:\n",
    "        dict2[value].append(key)\n",
    "print(str(dict2))    "
   ]
  },
  {
   "cell_type": "markdown",
   "metadata": {},
   "source": [
    "# Task-16"
   ]
  },
  {
   "cell_type": "code",
   "execution_count": 26,
   "metadata": {},
   "outputs": [
    {
     "name": "stdout",
     "output_type": "stream",
     "text": [
      "tom\n",
      "jarry\n",
      "Those strings are not anagrams.\n"
     ]
    }
   ],
   "source": [
    "input1=input()\n",
    "input2=input()\n",
    "list1=[]\n",
    "list2=[]\n",
    "dict1 = {}\n",
    "dict2={}\n",
    "#append on list \n",
    "for i in range(len(input1)):\n",
    "    list1.append(input1[i])\n",
    "list1.sort()\n",
    "for j in range(len(input2)):\n",
    "    list2.append(input2[j])\n",
    "list2.sort()\n",
    "#start dictonary    \n",
    "value = False\n",
    "for k in list1:\n",
    "    if k in dict1.keys():\n",
    "        dict1[k]+=1\n",
    "    else:\n",
    "        dict1[k]=1\n",
    "for idx in list2:\n",
    "    if idx in dict2.keys():\n",
    "        dict2[idx]+=1\n",
    "    else:\n",
    "        dict2[idx]=1\n",
    "\n",
    "if k == idx:\n",
    "    print(\"Those strings are anagrams.\")\n",
    "else:\n",
    "    print(\"Those strings are not anagrams.\")"
   ]
  },
  {
   "cell_type": "markdown",
   "metadata": {},
   "source": [
    "# Task-17"
   ]
  },
  {
   "cell_type": "code",
   "execution_count": 23,
   "metadata": {},
   "outputs": [
    {
     "name": "stdout",
     "output_type": "stream",
     "text": [
      "Hello, World!\n",
      "4433555555666110966677755531111\n"
     ]
    }
   ],
   "source": [
    "string1=input()\n",
    "string=\"\"\n",
    "for i in range(len(string1)):\n",
    "    if ord(string1[i])>=97 and ord(string1[i])<=122:\n",
    "        string = string + chr(ord(string1[i]) - 32)\n",
    "    else:\n",
    "        string = string + string1[i]\n",
    "s=\"\"\n",
    "total={1:[\".\",\",\",\"?\",\"!\",':'],2:[\"A\",\"B\",\"C\"],3:[\"D\",\"E\",\"F\"],4:[\"G\",\"H\",'I'],5:[\"J\",\"K\",\"L\"],6:[\"M\",\"N\",\"O\"],7:[\"P\",\"Q\",\"R\",\"S\"],8:[\"T\",\"U\",\"V\"],9:[\"W\",\"X\",\"Y\",\"Z\"],0:[\" \"]}\n",
    "for i in range(len(string)):\n",
    "    for j,k in total.items():\n",
    "        if string[i] in k:\n",
    "            for l in range(len(k)):\n",
    "                if string[i] ==k[l]:\n",
    "                    x=len(k[:l+1])\n",
    "                    for t in range(x):\n",
    "                        s=s+str(j)\n",
    "\n",
    "print(s)"
   ]
  },
  {
   "cell_type": "code",
   "execution_count": null,
   "metadata": {},
   "outputs": [],
   "source": []
  }
 ],
 "metadata": {
  "kernelspec": {
   "display_name": "Python 3",
   "language": "python",
   "name": "python3"
  },
  "language_info": {
   "codemirror_mode": {
    "name": "ipython",
    "version": 3
   },
   "file_extension": ".py",
   "mimetype": "text/x-python",
   "name": "python",
   "nbconvert_exporter": "python",
   "pygments_lexer": "ipython3",
   "version": "3.7.6"
  }
 },
 "nbformat": 4,
 "nbformat_minor": 4
}
