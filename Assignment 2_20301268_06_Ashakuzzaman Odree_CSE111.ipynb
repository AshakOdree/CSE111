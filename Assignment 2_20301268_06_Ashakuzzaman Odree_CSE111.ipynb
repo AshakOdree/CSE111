{
 "cells": [
  {
   "cell_type": "markdown",
   "metadata": {},
   "source": [
    "# CSE111 Assignment 2"
   ]
  },
  {
   "cell_type": "markdown",
   "metadata": {},
   "source": [
    "# Task-1\n",
    "Write a function which will return the fraction part after dividing a number by another. The range should be within 0 and 1. Exception: Since dividing anything by 0 results in error so if the denominator is 0, the function will return 0 instead of attempting the division.\\\n",
    "**Sample Input**\\\n",
    "(5, 2)\\\n",
    "(5, 0)\\\n",
    "(0, 5)\\\n",
    "**Sample Output**\\\n",
    "0.5\\\n",
    "0\\\n",
    "0\n"
   ]
  },
  {
   "cell_type": "code",
   "execution_count": 3,
   "metadata": {},
   "outputs": [
    {
     "ename": "ValueError",
     "evalue": "invalid literal for int() with base 10: ''",
     "output_type": "error",
     "traceback": [
      "\u001b[1;31m---------------------------------------------------------------------------\u001b[0m",
      "\u001b[1;31mValueError\u001b[0m                                Traceback (most recent call last)",
      "\u001b[1;32m<ipython-input-3-53d1ea70ca9f>\u001b[0m in \u001b[0;36m<module>\u001b[1;34m\u001b[0m\n\u001b[0;32m      6\u001b[0m     \u001b[1;32mexcept\u001b[0m \u001b[0mZeroDivisionError\u001b[0m\u001b[1;33m:\u001b[0m\u001b[1;33m\u001b[0m\u001b[1;33m\u001b[0m\u001b[0m\n\u001b[0;32m      7\u001b[0m         \u001b[0mprint\u001b[0m\u001b[1;33m(\u001b[0m\u001b[1;34m'0'\u001b[0m\u001b[1;33m)\u001b[0m\u001b[1;33m\u001b[0m\u001b[1;33m\u001b[0m\u001b[0m\n\u001b[1;32m----> 8\u001b[1;33m \u001b[0mfunction\u001b[0m\u001b[1;33m(\u001b[0m \u001b[0mfirst\u001b[0m \u001b[1;33m=\u001b[0m \u001b[0mint\u001b[0m\u001b[1;33m(\u001b[0m\u001b[0minput\u001b[0m\u001b[1;33m(\u001b[0m\u001b[1;33m)\u001b[0m\u001b[1;33m)\u001b[0m\u001b[1;33m,\u001b[0m\u001b[0msecond\u001b[0m \u001b[1;33m=\u001b[0m \u001b[0mint\u001b[0m\u001b[1;33m(\u001b[0m\u001b[0minput\u001b[0m\u001b[1;33m(\u001b[0m\u001b[1;33m)\u001b[0m\u001b[1;33m)\u001b[0m\u001b[1;33m)\u001b[0m\u001b[1;33m\u001b[0m\u001b[1;33m\u001b[0m\u001b[0m\n\u001b[0m",
      "\u001b[1;31mValueError\u001b[0m: invalid literal for int() with base 10: ''"
     ]
    }
   ],
   "source": [
    "def function(first,second):\n",
    "    try:\n",
    "        dev= first/second\n",
    "        result=dev -first//second\n",
    "        print(int(result))\n",
    "    except ZeroDivisionError:\n",
    "        print('0')\n",
    "function( first = int(in\n",
    "put()),second = int(input()))"
   ]
  },
  {
   "cell_type": "markdown",
   "metadata": {},
   "source": [
    "# Task-2\n",
    "You are one of the gym instructors at AmiKenoMota. You decide to provide a customized diet and exercise plans based on the BMI of an individual. You measure the weight in kilograms and height in meters and calculate the BMI before a plan can be decided. Write a BMI function that takes in two values, weight in kg and height in cm and print the score along with the condition.\\\n",
    "(Make sure to convert cm into m before calculation)\\\n",
    "BMI(height, weight)\n",
    "\n",
    "&emsp; &emsp; &emsp; &emsp;&emsp; &emsp; &emsp; **𝐵𝑀𝐼=𝑘𝑔/𝑚^2**\n",
    "\n",
    "Based on the BMI score return the following output.\\\n",
    "● < 18.5- Underweight\\\n",
    "● 18.5 - 24.9 - Normal\\\n",
    "● 25 -30 - Overweight\\\n",
    "● > 30 – Obese\\\n",
    "**Sample Input**\\\n",
    "(175, 96)\\\n",
    "(152, 48)\\\n",
    "**Sample Output**\\\n",
    "Score is 31.3. You are Obese\\\n",
    "Score is 20.8. You are Normal"
   ]
  },
  {
   "cell_type": "code",
   "execution_count": 1,
   "metadata": {},
   "outputs": [
    {
     "name": "stdout",
     "output_type": "stream",
     "text": [
      "175\n",
      "96\n",
      "Score is  31.3 .You are Obese\n"
     ]
    }
   ],
   "source": [
    "def function(hight,weight):\n",
    "    hight=hight/100\n",
    "    hight=hight*hight\n",
    "    temp = weight/hight\n",
    "    bmi = '%.1f'%temp\n",
    "    bmi = float(bmi)\n",
    "    if(bmi>30):\n",
    "        print(\"Score is \",bmi,'.You are Obese')\n",
    "    elif(bmi>=25 and bmi<=30):\n",
    "        print(\"Score is \",bmi,\". You are Overweight\")\n",
    "    elif(bmi>=18.4 and bmi<=24.9):\n",
    "        print(\"Score is \",bmi,\". You are Normal\")\n",
    "    else:\n",
    "        print(\"Score is \",bmi,\". You are Underweight\")\n",
    "function(hight=int(input()),weight=int(input()))    "
   ]
  },
  {
   "cell_type": "markdown",
   "metadata": {},
   "source": [
    "# Task-3\n",
    "Write a function which will take 3 arguments minimum, maximum and divisor. You have to find all the numbers that are divisible by the divisor where minimum value is inclusive and maximum value is exclusive. Add all the numbers and return the value.\\\n",
    "**Sample Input**\\\n",
    "(0, 10, 2)\\\n",
    "(3, 16, 3)\\\n",
    "**Sample Output**\\\n",
    "20\\\n",
    "45"
   ]
  },
  {
   "cell_type": "code",
   "execution_count": 21,
   "metadata": {},
   "outputs": [
    {
     "name": "stdout",
     "output_type": "stream",
     "text": [
      "0\n",
      "10\n",
      "2\n",
      "20\n"
     ]
    }
   ],
   "source": [
    "def function(start,end,step):\n",
    "    start= int(input())\n",
    "    end = int(input())\n",
    "    step = int(input())\n",
    "    total =0\n",
    "    for i in range(start,end):\n",
    "        if i%step==0:\n",
    "            total=total+i\n",
    "    return total\n",
    "print(function(start,end,step))            \n",
    "            "
   ]
  },
  {
   "cell_type": "markdown",
   "metadata": {},
   "source": [
    "# Task-4\n",
    "You want to order Burger from Chillox through the FoodPanda App. You have to calculate the total price. Write a function which will take the name of the burger and place(Mohakhali/Outside of Mohakhali) as input. Use default argument technique for taking place input.\n",
    "\n",
    "| Menu | Price(Tk) |\n",
    "| --- | --- |\n",
    "| BBQ Chicken cheese Burger | 250 |\n",
    "| Beef Burger | 170 |\n",
    "| Naga Drums | 200 |\n",
    "\n",
    "**Hint: Total Price = meal_cost + delivery_charge + tax**\\\n",
    "Note that:\\\n",
    "● If your home is in Mohakhali area then your delivery charge is 40 taka else 60 taka\\\n",
    "● Your tax rate is 8% of your meal.\\\n",
    "**Sample Input**\\\n",
    "(‘Beef Burger’, ‘Dhanmondi’)\\\n",
    "(‘Beef Burger’)\\\n",
    "**Sample Output**\\\n",
    "243.6\\\n",
    "223.6"
   ]
  },
  {
   "cell_type": "code",
   "execution_count": 35,
   "metadata": {},
   "outputs": [
    {
     "name": "stdout",
     "output_type": "stream",
     "text": [
      "write down the name of your Burger: Beef Burger\n",
      "write down the Place of your Location: \n",
      "223.6\n"
     ]
    }
   ],
   "source": [
    "def order(burger,location='Mohakhali'):\n",
    "    total=0\n",
    "    tax = 0.08\n",
    "    if burger==\"BBQ Chicken Cheese Burger\":\n",
    "        total=total+250\n",
    "    elif burger==\"Beef Burger\":\n",
    "        total=total+170\n",
    "    elif burger==\"Naga Drums\":\n",
    "        total=total+200\n",
    "    if location!=\"Mohakhali\" and location!='':\n",
    "        total=total+60+(total*tax)\n",
    "    else:\n",
    "        total=total+40+(total*tax)\n",
    "    print(total)\n",
    "order(input('write down the name of your Burger: '), input('write down the Place of your Location: '))"
   ]
  },
  {
   "cell_type": "markdown",
   "metadata": {},
   "source": [
    "# Task-5\n",
    "A company named Sheba.xyz has recently moved from their old domain to a new domain. However, a lot of the company email addresses are still using the old one. Write a function in python that replaces this old domain with the new one in any outdated email addresses. Keep same if the email address contains the new domain.\\\n",
    "**<font color='red'>[(Do not use builtin replace function)]</font>**\\\n",
    "Firstly, define a “replace_domain” function which accepts three parameters\\\n",
    "●The email address to be checked\\\n",
    "●The new domain\\\n",
    "●The old domain (Use Default argument technique to handle this)\\\n",
    "\n",
    "**Sample Input**\\\n",
    "(‘alice@kaaj.com’, ‘sheba.xyz’, ‘kaaj.com’)\\\n",
    "(‘bob@sheba.xyz’, ‘sheba.xyz’)\\\n",
    "**Sample Output**\\\n",
    "Changed: alice@sheba.xyz\\\n",
    "Unchanged: bob@sheba.xyz"
   ]
  },
  {
   "cell_type": "code",
   "execution_count": 4,
   "metadata": {},
   "outputs": [
    {
     "name": "stdout",
     "output_type": "stream",
     "text": [
      "Enter your email: bob@sheba.xyz\n",
      "Enter new domain: sheba.xyz\n",
      "enter old domain: \n",
      "unchanged: bob@sheba.xyz\n"
     ]
    }
   ],
   "source": [
    "def replace_domain(x,y,z=\"\"):\n",
    "    a =\"\"\n",
    "    for i in reversed(range(len(x))):\n",
    "        if x[i]==\"@\":\n",
    "            break\n",
    "        else:\n",
    "            a=a+x[i]\n",
    "\n",
    "    a=a[::-1]\n",
    "\n",
    "    if a==y and z==\"\":\n",
    "        print('unchanged: '+x)\n",
    "    else:\n",
    "      j,k=x.split(\"@\")\n",
    "      j=j+\"@\"\n",
    "      print('changed: '+j+y)\n",
    "\n",
    "replace_domain(input(\"Enter your email: \"), input(\"Enter new domain: \"), input(\"enter old domain: \"))"
   ]
  },
  {
   "cell_type": "markdown",
   "metadata": {},
   "source": [
    "# Task-6\n",
    "Write a function which takes only your full name as input and finds the total number of vowels in that input. Output every vowel and at the end output the total number of vowels found. If your name does not contain any vowel then your function should print “No vowels in the name!”.\\\n",
    "**Sample Input**\\\n",
    "(Steve Jobs)\\\n",
    "(XYZ)\\\n",
    "**Sample Output**\\\n",
    "Vowels: e, e, o. Total number of vowels: 3\\\n",
    "No vowels in the name"
   ]
  },
  {
   "cell_type": "code",
   "execution_count": 11,
   "metadata": {},
   "outputs": [
    {
     "name": "stdout",
     "output_type": "stream",
     "text": [
      "enter a sentence: Steve Jobs\n",
      "vowels: e,e,o.Total number of vowels: 3\n"
     ]
    }
   ],
   "source": [
    "def function(vowels):\n",
    "    list1 = ['a','e','i','o','u']\n",
    "    list2 = []\n",
    "    vowels=vowels.lower()\n",
    "    for i in range(len(vowels)):\n",
    "        if vowels[i] in list1:\n",
    "            list2.append(vowels[i])\n",
    "    last=\"\"\n",
    "    for j in range(len(list2)):\n",
    "        if j==len(list2)-1:\n",
    "            last=last+list2[j]+'.'\n",
    "        else:\n",
    "            last=last+list2[j]+',' \n",
    "\n",
    "    if len(list2)==0:\n",
    "        print('No vowels in the name')\n",
    "    else:\n",
    "        print('vowels:',last+'Total number of vowels:',len(list2))\n",
    "function(input('enter a sentence: '))            "
   ]
  },
  {
   "cell_type": "markdown",
   "metadata": {},
   "source": [
    "# Task-7\n",
    "Write a program which checks whether a given string is a palindrome or not. Note: A palindrome is a word, phrase, or sequence that reads the same backward as forward. For palindrome, any spaces in middle are not considered and should be trimmed.\\\n",
    "**Sample Input**\\\n",
    "‘madam’\\\n",
    "‘hello’\\\n",
    "‘nurses run’\\\n",
    "**Sample Output**\\\n",
    "Palindrome\\\n",
    "Not a palindrome\\\n",
    "Palindrome"
   ]
  },
  {
   "cell_type": "code",
   "execution_count": 28,
   "metadata": {},
   "outputs": [
    {
     "name": "stdout",
     "output_type": "stream",
     "text": [
      "enter a world: hello\n",
      "Not a palindrome\n"
     ]
    }
   ],
   "source": [
    "def function(word): \n",
    "    new = ''\n",
    "    for i in word:\n",
    "        if i ==\" \":\n",
    "            new = new\n",
    "        else: \n",
    "            new =new+i\n",
    "    if new == new[::-1]:\n",
    "        return ('palindrome')\n",
    "    else:\n",
    "        return ('Not a palindrome')\n",
    "word = input('enter a world: ')\n",
    "print(function(word))"
   ]
  },
  {
   "cell_type": "markdown",
   "metadata": {},
   "source": [
    "# Task-8\n",
    "Write a function which takes a number of days as input and prints total number of years, number of months and remaining number of days as output.\\\n",
    "**Sample Input**\\\n",
    "(4320)\\\n",
    "(4000)\\\n",
    "**Sample Output**\\\n",
    "11 years, 10 months and 5 days\\\n",
    "10 years, 11 months and 20 days"
   ]
  },
  {
   "cell_type": "code",
   "execution_count": 16,
   "metadata": {},
   "outputs": [
    {
     "name": "stdout",
     "output_type": "stream",
     "text": [
      "enter a num of day: 4000\n",
      "10  years, 0 months, 10 days\n"
     ]
    }
   ],
   "source": [
    "def date(num):\n",
    "    year =num//365\n",
    "    month =year//30\n",
    "    day =year%30\n",
    "    print(year,' years,',month,'months,',day,'days')\n",
    "date(int(input('enter a num of day: ')))"
   ]
  },
  {
   "cell_type": "markdown",
   "metadata": {},
   "source": [
    "# Task-9\n",
    "You are a class teacher at a kindergarten school. As a task, you asked your students to write a paragraph. Unfortunately, you notice that most of the students did not use capital letters correctly. Your task is to write a function which takes a string as its only parameter and returns a new copy of the string that has been correctly capitalized. Your function should:\\\n",
    "● Capitalize the first letter in the string\\\n",
    "● Capitalize the first letter after a full-stop, exclamation mark or question mark\\\n",
    "● Capitalize the word “i” if it is in lowercase.\\\n",
    "**Summary:**\\\n",
    "You have to write a function that reads a string from the user and capitalizes. The string is then returned and displayed.\\\n",
    "**Sample Input**\\\n",
    "('my favourite animal is a dog. a dog has sharp teeth so that it can eat flesh very easily. do you know my pet dog’s name? i love my pet very much.')\\\n",
    "**Sample Output**\\\n",
    "My favourite animal is a dog. A dog has sharp teeth so that it can eat flesh very easily. Do you know my pet dog’s name? I love my pet very much."
   ]
  },
  {
   "cell_type": "code",
   "execution_count": 2,
   "metadata": {},
   "outputs": [
    {
     "name": "stdout",
     "output_type": "stream",
     "text": [
      "my favourite animal is a dog. a dog has sharp teeth so that it can eat flesh very easily. do you know my pet dog’s name? i love my pet very much.\n",
      "My favourite animal is a dog. A dog has sharp teeth so that it can eat flesh very easily. Do you know my pet dog’s name? I love my pet very much.\n"
     ]
    }
   ],
   "source": [
    "def sentence(string):\n",
    "    lis=[]\n",
    "    s=\"\"\n",
    "    for i in range(len(string)):\n",
    "        lis.append(string[i])\n",
    "    lis[0]=lis[0].upper()\n",
    "    s=s+lis[0]\n",
    "    for i in range(1,len(lis)-1):\n",
    "        if lis[i]==\"i\" and lis[i-1] ==\" \" and lis[i+1]==\" \":\n",
    "            s=s+'I'\n",
    "        elif lis[i]==\".\":\n",
    "            lis[i+2]=lis[i+2].upper()\n",
    "            s=s+'.'\n",
    "        elif lis[i]==\"!\":\n",
    "            lis[i + 2] = lis[i + 2].upper()\n",
    "            s=s+'!'\n",
    "        elif lis[i]==\"?\":\n",
    "            lis[i + 2] = lis[i + 2].upper()\n",
    "            s=s+'?'\n",
    "        else:\n",
    "            s=s+lis[i]\n",
    "    s=s+\".\"\n",
    "    print(s)\n",
    "\n",
    "\n",
    "sentence(input())"
   ]
  },
  {
   "cell_type": "code",
   "execution_count": null,
   "metadata": {},
   "outputs": [],
   "source": []
  }
 ],
 "metadata": {
  "kernelspec": {
   "display_name": "Python 3",
   "language": "python",
   "name": "python3"
  },
  "language_info": {
   "codemirror_mode": {
    "name": "ipython",
    "version": 3
   },
   "file_extension": ".py",
   "mimetype": "text/x-python",
   "name": "python",
   "nbconvert_exporter": "python",
   "pygments_lexer": "ipython3",
   "version": "3.7.6"
  }
 },
 "nbformat": 4,
 "nbformat_minor": 4
}
