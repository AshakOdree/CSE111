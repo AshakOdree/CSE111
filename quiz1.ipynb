{
 "cells": [
  {
   "cell_type": "code",
   "execution_count": 1,
   "metadata": {},
   "outputs": [
    {
     "name": "stdout",
     "output_type": "stream",
     "text": [
      "uu\n",
      "{'uppercase': [], 'lowercase': ['u']}\n"
     ]
    }
   ],
   "source": [
    "string=(input())\n",
    "upp=[]\n",
    "low=[]\n",
    "dic=dict()\n",
    "for i in string:\n",
    "    if ord(i) >=65 and ord(i)<=90:\n",
    "        if i not in low:\n",
    "            upp.append(i)\n",
    "    elif ord(i) >=97 and ord(i)<=122:\n",
    "        if i not in low:\n",
    "            low.append(i)\n",
    "for i in range(len(upp+low)):\n",
    "    dic[\"uppercase\"]=upp\n",
    "    dic[\"lowercase\"]=low\n",
    "print(dic)"
   ]
  },
  {
   "cell_type": "code",
   "execution_count": null,
   "metadata": {},
   "outputs": [],
   "source": []
  },
  {
   "cell_type": "code",
   "execution_count": null,
   "metadata": {},
   "outputs": [],
   "source": []
  }
 ],
 "metadata": {
  "kernelspec": {
   "display_name": "Python 3",
   "language": "python",
   "name": "python3"
  },
  "language_info": {
   "codemirror_mode": {
    "name": "ipython",
    "version": 3
   },
   "file_extension": ".py",
   "mimetype": "text/x-python",
   "name": "python",
   "nbconvert_exporter": "python",
   "pygments_lexer": "ipython3",
   "version": "3.7.6"
  }
 },
 "nbformat": 4,
 "nbformat_minor": 4
}
