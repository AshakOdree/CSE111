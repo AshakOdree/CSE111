{
 "cells": [
  {
   "cell_type": "markdown",
   "metadata": {},
   "source": [
    "# Task-1"
   ]
  },
  {
   "cell_type": "code",
   "execution_count": 1,
   "metadata": {},
   "outputs": [
    {
     "output_type": "stream",
     "name": "stdout",
     "text": [
      "RealPart: 1.0\nImaginaryPart: 1.0\n---------\nRealPart: 5.0\nImaginaryPart: 7.0\n"
     ]
    }
   ],
   "source": [
    "class RealNumber: \n",
    "    def __init__(self, r=0): \n",
    "        self.__realValue = r \n",
    "    def getRealValue(self): \n",
    "        return self.__realValue \n",
    "    def setRealValue(self, r): \n",
    "        self.__realValue = r \n",
    "    def __str__(self): \n",
    "        return 'RealPart: '+str(self.getRealValue()) \n",
    "#====================================================================\n",
    "class ComplexNumber(RealNumber):\n",
    "    def __init__(self,r=1,i=1):\n",
    "        self.i=i\n",
    "        super().__init__(r)\n",
    "    def __str__(self): \n",
    "        return 'RealPart: '+str(self.getRealValue())+\".0\"+\"\\nImaginaryPart: \"+str(self.i)+ \".0\"\n",
    "\n",
    "#=====================================================================\n",
    "cn1 = ComplexNumber() \n",
    "print(cn1) \n",
    "print('---------') \n",
    "cn2 = ComplexNumber(5,7) \n",
    "print(cn2)"
   ]
  },
  {
   "cell_type": "markdown",
   "metadata": {},
   "source": [
    "# Task-2"
   ]
  },
  {
   "cell_type": "code",
   "execution_count": 2,
   "metadata": {},
   "outputs": [
    {
     "output_type": "stream",
     "name": "stdout",
     "text": [
      "8\n2 + 1i\n3 + 5i\n5 + 6i\n-1 - 4i\n"
     ]
    }
   ],
   "source": [
    "class RealNumber: \n",
    "    def __init__(self, number=0): \n",
    "        self.number = number \n",
    "    def __add__(self, anotherRealNumber): \n",
    "        return self.number + anotherRealNumber.number \n",
    "    def __sub__(self, anotherRealNumber): \n",
    "        return self.number - anotherRealNumber.number \n",
    "    def __str__(self): \n",
    "        return str(self.number) \n",
    "#==============================================================================================\n",
    "class ComplexNumber(RealNumber):\n",
    "    def __init__(self,num,num1=0):\n",
    "        self.num1= num1\n",
    "        if type(num)!= int:\n",
    "            super().__init__(num.number)\n",
    "        else:\n",
    "            super().__init__(num)\n",
    "    def __add__(self,other):\n",
    "        return str(self.number + other.number)+\" + \"+str(self.num1+other.num1)+\"i\" \n",
    "    def __sub__(self,other):\n",
    "         return str(self.number - other.number)+\" - \"+str(other.num1-self.num1)+\"i\" \n",
    "    def __str__(self): \n",
    "        return str(self.number)+\" + \"+str(self.num1)+\"i\"\n",
    "#=================================================================================================\n",
    "r1 = RealNumber(3) \n",
    "r2 = RealNumber(5) \n",
    "print(r1+r2) \n",
    "cn1 = ComplexNumber(2, 1) \n",
    "print(cn1) \n",
    "cn2 = ComplexNumber(r1, 5) \n",
    "print(cn2) \n",
    "cn3 = cn1 + cn2 \n",
    "print(cn3) \n",
    "cn4 = cn1 - cn2 \n",
    "print(cn4)\n"
   ]
  },
  {
   "cell_type": "markdown",
   "metadata": {},
   "source": [
    "# Task-3"
   ]
  },
  {
   "cell_type": "code",
   "execution_count": 50,
   "metadata": {},
   "outputs": [
    {
     "output_type": "stream",
     "name": "stdout",
     "text": [
      "Number of Checking Accounts: 0\nAccount Balance: 0.0\nAccount Balance: 100.00\nAccount Balance: 200.00\nNumber of Checking Accounts: 3\n"
     ]
    }
   ],
   "source": [
    "class Account: \n",
    "    def __init__(self,balance): \n",
    "        self._balance = balance \n",
    "    def getBalance(self): \n",
    "        return self._balance \n",
    "#====================================================================================\n",
    "class CheckingAccount(Account):\n",
    "    numberOfAccount=0\n",
    "    def __init__(self,balance=0.0):\n",
    "        super().__init__(balance)\n",
    "        CheckingAccount.numberOfAccount+=1\n",
    "    def __str__(self):\n",
    "        if super().getBalance()!=0.0:\n",
    "            return \"Account Balance: \"+str(super().getBalance())+\"0\"\n",
    "        else:\n",
    "            return \"Account Balance: \" + str(super().getBalance())\n",
    "            \n",
    "#====================================================================================\n",
    "print('Number of Checking Accounts:', CheckingAccount.numberOfAccount) \n",
    "print(CheckingAccount()) \n",
    "print(CheckingAccount(100.00)) \n",
    "print(CheckingAccount(200.00)) \n",
    "print('Number of Checking Accounts:', CheckingAccount.numberOfAccount)"
   ]
  },
  {
   "cell_type": "markdown",
   "metadata": {},
   "source": [
    "# Task-4"
   ]
  },
  {
   "cell_type": "code",
   "execution_count": 1,
   "metadata": {},
   "outputs": [
    {
     "output_type": "stream",
     "name": "stdout",
     "text": [
      "----Printing Detail----\nDo not eat the Mango .\nMangos are bad for you\n----Printing Detail----\nEat the jackfruit .\njackfruits are good for you\n"
     ]
    }
   ],
   "source": [
    "class Fruit: \n",
    "    def __init__(self, formalin=False, name=''): \n",
    "        self.__formalin = formalin \n",
    "        self.name = name \n",
    "    def getName(self): \n",
    "        return self.name \n",
    "    def hasFormalin(self): \n",
    "        return self.__formalin \n",
    "class testFruit: \n",
    "    def test(self, f): \n",
    "        print('----Printing Detail----') \n",
    "        if f.hasFormalin(): \n",
    "            print('Do not eat the',f.getName(),'.') \n",
    "            print(f) \n",
    "        else: \n",
    "            print('Eat the',f.getName(),'.') \n",
    "            print(f) \n",
    "#==================================================================================\n",
    "class Mango(Fruit):\n",
    "    def __init__(self, formalin=True, name='Mango'):\n",
    "        super().__init__(formalin,name) \n",
    "    def __str__(self):\n",
    "        return self.getName() + \"s are bad for you\"\n",
    "class Jackfruit(Fruit,testFruit):\n",
    "    def __init__(self, formalin=False, name='jackfruit'):\n",
    "        super().__init__(formalin,name) \n",
    "    def __str__(self):\n",
    "        return self.getName() + \"s are good for you\"\n",
    "#=================================================================================\n",
    "m = Mango() \n",
    "j = Jackfruit() \n",
    "t1 = testFruit() \n",
    "t1.test(m) \n",
    "t1.test(j)"
   ]
  },
  {
   "cell_type": "markdown",
   "metadata": {},
   "source": [
    "# Task-5"
   ]
  },
  {
   "cell_type": "code",
   "execution_count": 7,
   "metadata": {},
   "outputs": [
    {
     "output_type": "stream",
     "name": "stdout",
     "text": [
      "Marks: 100 Time: 90 minutes Number of \nParts: 4\n----------------------------------\nMaths , English , Physics , HigherMaths\nPart 1 - Maths\nPart 2 - English\nPart 3 - Physics\nPart 4 - HigherMaths\n==================================\nMarks: 100 Time: 120 minutes Number of \nParts: 5\n----------------------------------\nMaths , English , Physics , HigherMaths , Drawing\nPart 1 - Maths\nPart 2 - English\nPart 3 - Physics\nPart 4 - HigherMaths\nPart 5 - Drawing\n"
     ]
    }
   ],
   "source": [
    "class Exam: \n",
    "    def __init__(self,marks): \n",
    "        self.marks = marks \n",
    "        self.time = 60 \n",
    "    def examSyllabus(self): \n",
    "        return \"Maths , English\" \n",
    "    def examParts(self): \n",
    "        return \"Part 1 - Maths\\nPart 2 - English\\n\" \n",
    "#=================================================================================================\n",
    "class ScienceExam(Exam):\n",
    "    def __init__(self,marks,time,*sub):\n",
    "        super().__init__(marks)\n",
    "        self.time= time\n",
    "        self.sub= sub\n",
    "    def __str__(self):\n",
    "        return \"Marks: \"+str(self.marks)+\" Time: \"+str(self.time)+\" minutes Number of \\nParts: \"+str(2+len(self.sub))\n",
    "    def examSyllabus(self):\n",
    "        new =super().examSyllabus()\n",
    "        for k in self.sub:\n",
    "            new +=\" , \" + k\n",
    "        return new\n",
    "        \n",
    "    def examParts(self):\n",
    "        part=super().examParts()\n",
    "        for i in range(0,len(self.sub)):\n",
    "            if i==len(self.sub)-1:\n",
    "                part+=\"Part \" + str(i+3) + \" - \" + self.sub[i]\n",
    "            else:\n",
    "                part+=\"Part \" + str(i+3) + \" - \" + self.sub[i] + \"\\n\"\n",
    "        return part\n",
    "\n",
    "#===============================================================================================\n",
    "engineering = ScienceExam(100,90,\"Physics\",\"HigherMaths\") \n",
    "print(engineering) \n",
    "print('----------------------------------') \n",
    "print(engineering.examSyllabus()) \n",
    "print(engineering.examParts()) \n",
    "print('==================================') \n",
    "architecture = ScienceExam(100,120,\"Physics\",\"HigherMaths\",\"Drawing\") \n",
    "print(architecture) \n",
    "print('----------------------------------') \n",
    "print(architecture.examSyllabus()) \n",
    "print(architecture.examParts())"
   ]
  },
  {
   "cell_type": "markdown",
   "metadata": {},
   "source": [
    "# Task-6"
   ]
  },
  {
   "cell_type": "code",
   "execution_count": 51,
   "metadata": {},
   "outputs": [
    {
     "output_type": "stream",
     "name": "stdout",
     "text": [
      "Shape name: Sphere, Area Formula: 4 * pi * r * r \n----------------------------------\nRadius: 5, Height: No need\nArea: 314.159\n==================================\nShape name: Cylinder, Area Formula: 2 * pi * r * (r + h)\n----------------------------------\nRadius: 5, Height: 10\nArea: 471.2385\n"
     ]
    }
   ],
   "source": [
    "class Shape3D:\n",
    "    pi = 3.14159\n",
    "    def __init__(self, name = 'Default', radius = 0):\n",
    "        self._area = 0\n",
    "        self._name = name\n",
    "        self._height = 'No need'\n",
    "        self._radius = radius\n",
    "    def calc_surface_area(self):\n",
    "        return 2 * Shape3D.pi * self._radius\n",
    "    def __str__(self):\n",
    "        return \"Radius: \"+str(self._radius)\n",
    "#==========================================================================\n",
    "class Sphere(Shape3D):\n",
    "    def __init__(self,name,radius):\n",
    "        super().__init__(name,radius)\n",
    "        print(\"Shape name: \" + (self._name) + \", \" + \"Area Formula: \" + \"4 * pi * r * r \")\n",
    "    def __str__(self):\n",
    "        print(super().__str__() + \", \" + \"Height:\", self._height)\n",
    "        return \"Area: \" + str(self.calc_surface_area())\n",
    "    def calc_surface_area(self):\n",
    "        return 4 * Shape3D.pi * self._radius* self._radius\n",
    "        \n",
    "class Cylinder(Shape3D):\n",
    "    def __init__(self,name,radius,height=0):\n",
    "        super().__init__(name,radius)\n",
    "        self.height=height\n",
    "        print(\"Shape name: \"+str(self._name)+\", \"+\"Area Formula: \" + \"2 * pi * r * (r + h)\")\n",
    "    def __str__(self):\n",
    "        print(super().__str__() + \", \" + \"Height: \" + str(self.height))\n",
    "        return \"Area: \" + str(self.calc_surface_area())\n",
    "    def calc_surface_area(self):\n",
    "        return 2 * Shape3D.pi * self._radius*(self._radius+self.height)\n",
    "#==========================================================================\n",
    "sph = Sphere('Sphere', 5)\n",
    "print('----------------------------------')\n",
    "sph.calc_surface_area()\n",
    "print(sph)\n",
    "print('==================================')\n",
    "cyl = Cylinder('Cylinder', 5, 10)\n",
    "print('----------------------------------')\n",
    "cyl.calc_surface_area()\n",
    "print(cyl)"
   ]
  },
  {
   "cell_type": "markdown",
   "metadata": {},
   "source": [
    "# Task-7"
   ]
  },
  {
   "cell_type": "code",
   "execution_count": 36,
   "metadata": {},
   "outputs": [
    {
     "output_type": "stream",
     "name": "stdout",
     "text": [
      "\n------------Basic Info:--------------\nName: Default, HP: 0, Weakness: None\nMain type: Unknown\nBasic move: Quick Attack\n\n------------Pokemon 1 Info:-------------\nName: Charmander, HP: 39, Weakness: Water\nMain type: Fire\nBasic move: Quick Attack\n\n------------Pokemon 2 Info:-------------\nName: Charizard, HP: 78, Weakness: Water\nMain type: Fire, Secondary type: Flying\nOther move: Fire Spin, Fire Blaze\n"
     ]
    }
   ],
   "source": [
    "class PokemonBasic:\n",
    "    def __init__(self, name = 'Default', hp = 0,weakness = 'None', type = 'Unknown'):\n",
    "        self.name = name\n",
    "        self.hit_point = hp\n",
    "        self.weakness = weakness\n",
    "        self.type = type\n",
    "    def get_type(self):\n",
    "        return 'Main type: ' + self.type\n",
    "    def get_move(self):\n",
    "        return 'Basic move: ' + 'Quick Attack'\n",
    "    def __str__(self):\n",
    "        return \"Name: \" + self.name + \", HP: \" +str(self.hit_point) + \", Weakness: \" + self.weakness\n",
    "#==================================================================================================================\n",
    "class  PokemonExtra(PokemonBasic):\n",
    "    def __init__(self, name, hp ,weakness , type,secondeary=\"\",*other ):\n",
    "        super().__init__(name, hp ,weakness , type)\n",
    "        self.secondeary = secondeary\n",
    "        self.other = other\n",
    "    def get_move(self):\n",
    "        if len(self.other) ==0:\n",
    "            return super().get_move()\n",
    "        else:\n",
    "            new=\"\"\n",
    "            for i in range(0,len(self.other[0])):\n",
    "                if i==1:\n",
    "                    new += str(self.other[0][1])\n",
    "                else:\n",
    "                    new += str(self.other[0][0])+\", \"\n",
    "            return \"Other move: \" + str(new)\n",
    "    def get_type(self):\n",
    "        if self.secondeary!=\"\":\n",
    "            return (super().get_type() + \", Secondary type: \" + self.secondeary)\n",
    "        else:\n",
    "            return (super().get_type())\n",
    "#==================================================================================================================\n",
    "print('\\n------------Basic Info:--------------')\n",
    "pk = PokemonBasic()\n",
    "print(pk)\n",
    "print(pk.get_type())\n",
    "print(pk.get_move())\n",
    "print('\\n------------Pokemon 1 Info:-------------')\n",
    "charmander = PokemonExtra('Charmander', 39, 'Water','Fire')\n",
    "print(charmander)\n",
    "print(charmander.get_type())\n",
    "print(charmander.get_move())\n",
    "print('\\n------------Pokemon 2 Info:-------------')\n",
    "charizard = PokemonExtra('Charizard', 78, 'Water','Fire', 'Flying', ('Fire Spin', 'Fire Blaze'))\n",
    "print(charizard)\n",
    "print(charizard.get_type())\n",
    "print(charizard.get_move())"
   ]
  },
  {
   "cell_type": "code",
   "execution_count": null,
   "metadata": {},
   "outputs": [],
   "source": []
  }
 ],
 "metadata": {
  "kernelspec": {
   "display_name": "Python 3",
   "language": "python",
   "name": "python3"
  },
  "language_info": {
   "codemirror_mode": {
    "name": "ipython",
    "version": 3
   },
   "file_extension": ".py",
   "mimetype": "text/x-python",
   "name": "python",
   "nbconvert_exporter": "python",
   "pygments_lexer": "ipython3",
   "version": "3.7.6-final"
  }
 },
 "nbformat": 4,
 "nbformat_minor": 4
}